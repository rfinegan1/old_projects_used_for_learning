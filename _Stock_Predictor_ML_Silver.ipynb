{
 "cells": [
  {
   "cell_type": "code",
   "execution_count": 1,
   "metadata": {},
   "outputs": [],
   "source": [
    "import numpy as np\n",
    "import datetime as dt\n",
    "import pandas as pd\n",
    "import pandas_datareader.data as web\n",
    "import matplotlib.pyplot as plt\n",
    "import math\n",
    "import warnings\n",
    "warnings.filterwarnings(\"ignore\")"
   ]
  },
  {
   "cell_type": "code",
   "execution_count": 2,
   "metadata": {},
   "outputs": [
    {
     "data": {
      "text/html": [
       "<div>\n",
       "<style scoped>\n",
       "    .dataframe tbody tr th:only-of-type {\n",
       "        vertical-align: middle;\n",
       "    }\n",
       "\n",
       "    .dataframe tbody tr th {\n",
       "        vertical-align: top;\n",
       "    }\n",
       "\n",
       "    .dataframe thead th {\n",
       "        text-align: right;\n",
       "    }\n",
       "</style>\n",
       "<table border=\"1\" class=\"dataframe\">\n",
       "  <thead>\n",
       "    <tr style=\"text-align: right;\">\n",
       "      <th></th>\n",
       "      <th>SI=F Adj Close</th>\n",
       "    </tr>\n",
       "    <tr>\n",
       "      <th>Date</th>\n",
       "      <th></th>\n",
       "    </tr>\n",
       "  </thead>\n",
       "  <tbody>\n",
       "    <tr>\n",
       "      <td>2015-01-02</td>\n",
       "      <td>15.734000</td>\n",
       "    </tr>\n",
       "    <tr>\n",
       "      <td>2015-01-05</td>\n",
       "      <td>16.179001</td>\n",
       "    </tr>\n",
       "    <tr>\n",
       "      <td>2015-01-06</td>\n",
       "      <td>16.603001</td>\n",
       "    </tr>\n",
       "    <tr>\n",
       "      <td>2015-01-07</td>\n",
       "      <td>16.510000</td>\n",
       "    </tr>\n",
       "    <tr>\n",
       "      <td>2015-01-08</td>\n",
       "      <td>16.351000</td>\n",
       "    </tr>\n",
       "    <tr>\n",
       "      <td>...</td>\n",
       "      <td>...</td>\n",
       "    </tr>\n",
       "    <tr>\n",
       "      <td>2020-05-19</td>\n",
       "      <td>17.895000</td>\n",
       "    </tr>\n",
       "    <tr>\n",
       "      <td>2020-05-20</td>\n",
       "      <td>17.990000</td>\n",
       "    </tr>\n",
       "    <tr>\n",
       "      <td>2020-05-21</td>\n",
       "      <td>17.424999</td>\n",
       "    </tr>\n",
       "    <tr>\n",
       "      <td>2020-05-22</td>\n",
       "      <td>17.690001</td>\n",
       "    </tr>\n",
       "    <tr>\n",
       "      <td>2020-05-24</td>\n",
       "      <td>17.635000</td>\n",
       "    </tr>\n",
       "  </tbody>\n",
       "</table>\n",
       "<p>1366 rows × 1 columns</p>\n",
       "</div>"
      ],
      "text/plain": [
       "            SI=F Adj Close\n",
       "Date                      \n",
       "2015-01-02       15.734000\n",
       "2015-01-05       16.179001\n",
       "2015-01-06       16.603001\n",
       "2015-01-07       16.510000\n",
       "2015-01-08       16.351000\n",
       "...                    ...\n",
       "2020-05-19       17.895000\n",
       "2020-05-20       17.990000\n",
       "2020-05-21       17.424999\n",
       "2020-05-22       17.690001\n",
       "2020-05-24       17.635000\n",
       "\n",
       "[1366 rows x 1 columns]"
      ]
     },
     "execution_count": 2,
     "metadata": {},
     "output_type": "execute_result"
    }
   ],
   "source": [
    "ticker1 = 'SI=F'\n",
    "start = '2015-01-01'\n",
    "end = '2020-05-10'\n",
    "#end = dt.datetime.now()\n",
    "df1 = web.DataReader(ticker1,'yahoo',start,end)\n",
    "df1[[f'{ticker1} Adj Close']] = df1[['Adj Close']]\n",
    "df1 = df1[[f'{ticker1} Adj Close']]\n",
    "df1"
   ]
  },
  {
   "cell_type": "code",
   "execution_count": 3,
   "metadata": {},
   "outputs": [],
   "source": [
    "#Small-Cap Gold Miners (AG, EXK, PAAS, FSM, HL, CDE\n",
    "ticker = 'CDE'\n",
    "start = '2015-01-01'\n",
    "end = '2020-05-10'\n",
    "#end = dt.datetime.now()\n",
    "df = web.DataReader(ticker,'yahoo',start,end)\n",
    "df = df[['Open','High','Low','Close','Adj Close','Volume']]"
   ]
  },
  {
   "cell_type": "code",
   "execution_count": 4,
   "metadata": {},
   "outputs": [],
   "source": [
    "def RSI(ticker):\n",
    "    '''Coolest function... Can see the RSI values fluctuate (usually) from 20/30 to 70/80/90.\n",
    "    Stocks that fluctuate and have good credit (or part of big indices) would be good picks \n",
    "    for trading strategy... below 50 is a buy indicator'''\n",
    "    #end = dt.datetime.now()\n",
    "    end = '2020-05-10'\n",
    "    start = '2015-01-01'\n",
    "    df = web.DataReader(ticker,'yahoo',start,end)\n",
    "    df = df[['Adj Close']]\n",
    "    # create a column called daily return\n",
    "    df['Daily Return'] = df['Adj Close'].pct_change()*100\n",
    "    # making a dataframe only for the percent return of each day\n",
    "    df['Up/Down'] = np.sign(df['Daily Return'])\n",
    "    #drop the nan values\n",
    "    df.dropna(inplace=True)\n",
    "    df['Up']=(df['Up/Down']>0).astype(int)\n",
    "    df['Down']=(df['Up/Down']<0).astype(int)\n",
    "    up = df['Up']\n",
    "    down = df['Down']\n",
    "    gain = pd.Series(up).rolling(window=14).sum()\n",
    "    loss = pd.Series(down).rolling(window=14).sum()\n",
    "    df['Gain'] = gain/14\n",
    "    df['Loss'] = loss/14\n",
    "    df['RS'] = df['Gain']/df['Loss']\n",
    "    df['RSI'] = 100 - (100/(1+df['RS']))\n",
    "    df.dropna(inplace=True)\n",
    "    df = df[['RSI']]\n",
    "    return(df)"
   ]
  },
  {
   "cell_type": "code",
   "execution_count": 5,
   "metadata": {},
   "outputs": [],
   "source": [
    "df3 = RSI(ticker)"
   ]
  },
  {
   "cell_type": "code",
   "execution_count": 6,
   "metadata": {},
   "outputs": [],
   "source": [
    "def EPS(symbol):\n",
    "    from yahoo_earnings_calendar import YahooEarningsCalendar\n",
    "    yec = YahooEarningsCalendar()\n",
    "    ticker = (yec.get_earnings_of(symbol))\n",
    "    data = pd.DataFrame(ticker)\n",
    "    df = data.dropna()\n",
    "    df['Date'] = pd.to_datetime(df['startdatetime']).dt.date\n",
    "    df = df[['Date','ticker','epsestimate','epsactual','epssurprisepct']]\n",
    "    df['Date'] = df['Date'].apply(pd.to_datetime)\n",
    "    df = df.drop_duplicates(subset='Date')\n",
    "    df = df.head(43)\n",
    "    df = df.set_index('Date')\n",
    "    df[['epssurprisepct']]\n",
    "    data1 = web.DataReader(symbol,'yahoo',start,end)\n",
    "    df1 = data1[['Adj Close']]\n",
    "    df1 = df1.sort_index(ascending=False)\n",
    "    df_combined = pd.concat([df,df1],axis=1)\n",
    "    df_combined = df_combined.fillna(method='ffill')\n",
    "    df_combined.dropna(inplace=True)\n",
    "    df_combined=df_combined[['epssurprisepct']]\n",
    "    return(df_combined)"
   ]
  },
  {
   "cell_type": "code",
   "execution_count": 7,
   "metadata": {},
   "outputs": [
    {
     "data": {
      "text/html": [
       "<div>\n",
       "<style scoped>\n",
       "    .dataframe tbody tr th:only-of-type {\n",
       "        vertical-align: middle;\n",
       "    }\n",
       "\n",
       "    .dataframe tbody tr th {\n",
       "        vertical-align: top;\n",
       "    }\n",
       "\n",
       "    .dataframe thead th {\n",
       "        text-align: right;\n",
       "    }\n",
       "</style>\n",
       "<table border=\"1\" class=\"dataframe\">\n",
       "  <thead>\n",
       "    <tr style=\"text-align: right;\">\n",
       "      <th></th>\n",
       "      <th>epssurprisepct</th>\n",
       "    </tr>\n",
       "    <tr>\n",
       "      <th>Date</th>\n",
       "      <th></th>\n",
       "    </tr>\n",
       "  </thead>\n",
       "  <tbody>\n",
       "    <tr>\n",
       "      <td>2015-01-02</td>\n",
       "      <td>24.09</td>\n",
       "    </tr>\n",
       "    <tr>\n",
       "      <td>2015-01-05</td>\n",
       "      <td>24.09</td>\n",
       "    </tr>\n",
       "    <tr>\n",
       "      <td>2015-01-06</td>\n",
       "      <td>24.09</td>\n",
       "    </tr>\n",
       "    <tr>\n",
       "      <td>2015-01-07</td>\n",
       "      <td>24.09</td>\n",
       "    </tr>\n",
       "    <tr>\n",
       "      <td>2015-01-08</td>\n",
       "      <td>24.09</td>\n",
       "    </tr>\n",
       "    <tr>\n",
       "      <td>...</td>\n",
       "      <td>...</td>\n",
       "    </tr>\n",
       "    <tr>\n",
       "      <td>2020-05-18</td>\n",
       "      <td>100.00</td>\n",
       "    </tr>\n",
       "    <tr>\n",
       "      <td>2020-05-19</td>\n",
       "      <td>100.00</td>\n",
       "    </tr>\n",
       "    <tr>\n",
       "      <td>2020-05-20</td>\n",
       "      <td>100.00</td>\n",
       "    </tr>\n",
       "    <tr>\n",
       "      <td>2020-05-21</td>\n",
       "      <td>100.00</td>\n",
       "    </tr>\n",
       "    <tr>\n",
       "      <td>2020-05-22</td>\n",
       "      <td>100.00</td>\n",
       "    </tr>\n",
       "  </tbody>\n",
       "</table>\n",
       "<p>1357 rows × 1 columns</p>\n",
       "</div>"
      ],
      "text/plain": [
       "            epssurprisepct\n",
       "Date                      \n",
       "2015-01-02           24.09\n",
       "2015-01-05           24.09\n",
       "2015-01-06           24.09\n",
       "2015-01-07           24.09\n",
       "2015-01-08           24.09\n",
       "...                    ...\n",
       "2020-05-18          100.00\n",
       "2020-05-19          100.00\n",
       "2020-05-20          100.00\n",
       "2020-05-21          100.00\n",
       "2020-05-22          100.00\n",
       "\n",
       "[1357 rows x 1 columns]"
      ]
     },
     "execution_count": 7,
     "metadata": {},
     "output_type": "execute_result"
    }
   ],
   "source": [
    "df2 = EPS(ticker)\n",
    "df2"
   ]
  },
  {
   "cell_type": "code",
   "execution_count": 8,
   "metadata": {},
   "outputs": [
    {
     "data": {
      "text/html": [
       "<div>\n",
       "<style scoped>\n",
       "    .dataframe tbody tr th:only-of-type {\n",
       "        vertical-align: middle;\n",
       "    }\n",
       "\n",
       "    .dataframe tbody tr th {\n",
       "        vertical-align: top;\n",
       "    }\n",
       "\n",
       "    .dataframe thead th {\n",
       "        text-align: right;\n",
       "    }\n",
       "</style>\n",
       "<table border=\"1\" class=\"dataframe\">\n",
       "  <thead>\n",
       "    <tr style=\"text-align: right;\">\n",
       "      <th></th>\n",
       "      <th>Date</th>\n",
       "      <th>Open</th>\n",
       "      <th>High</th>\n",
       "      <th>Low</th>\n",
       "      <th>Close</th>\n",
       "      <th>Adj Close</th>\n",
       "      <th>Volume</th>\n",
       "      <th>SI=F Adj Close</th>\n",
       "      <th>epssurprisepct</th>\n",
       "      <th>RSI</th>\n",
       "    </tr>\n",
       "  </thead>\n",
       "  <tbody>\n",
       "    <tr>\n",
       "      <td>0</td>\n",
       "      <td>2015-01-23</td>\n",
       "      <td>6.24</td>\n",
       "      <td>6.25</td>\n",
       "      <td>5.93</td>\n",
       "      <td>5.99</td>\n",
       "      <td>5.99</td>\n",
       "      <td>2234000.0</td>\n",
       "      <td>18.284000</td>\n",
       "      <td>24.09</td>\n",
       "      <td>57.142857</td>\n",
       "    </tr>\n",
       "    <tr>\n",
       "      <td>1</td>\n",
       "      <td>2015-01-26</td>\n",
       "      <td>5.85</td>\n",
       "      <td>6.13</td>\n",
       "      <td>5.69</td>\n",
       "      <td>6.11</td>\n",
       "      <td>6.11</td>\n",
       "      <td>2149800.0</td>\n",
       "      <td>17.966999</td>\n",
       "      <td>24.09</td>\n",
       "      <td>57.142857</td>\n",
       "    </tr>\n",
       "    <tr>\n",
       "      <td>2</td>\n",
       "      <td>2015-01-27</td>\n",
       "      <td>6.14</td>\n",
       "      <td>6.42</td>\n",
       "      <td>6.12</td>\n",
       "      <td>6.32</td>\n",
       "      <td>6.32</td>\n",
       "      <td>3697700.0</td>\n",
       "      <td>18.068001</td>\n",
       "      <td>24.09</td>\n",
       "      <td>57.142857</td>\n",
       "    </tr>\n",
       "    <tr>\n",
       "      <td>3</td>\n",
       "      <td>2015-01-28</td>\n",
       "      <td>6.23</td>\n",
       "      <td>6.36</td>\n",
       "      <td>5.89</td>\n",
       "      <td>5.99</td>\n",
       "      <td>5.99</td>\n",
       "      <td>2668300.0</td>\n",
       "      <td>18.068001</td>\n",
       "      <td>24.09</td>\n",
       "      <td>57.142857</td>\n",
       "    </tr>\n",
       "    <tr>\n",
       "      <td>4</td>\n",
       "      <td>2015-01-29</td>\n",
       "      <td>5.83</td>\n",
       "      <td>6.00</td>\n",
       "      <td>5.66</td>\n",
       "      <td>5.94</td>\n",
       "      <td>5.94</td>\n",
       "      <td>2988900.0</td>\n",
       "      <td>16.757999</td>\n",
       "      <td>24.09</td>\n",
       "      <td>57.142857</td>\n",
       "    </tr>\n",
       "    <tr>\n",
       "      <td>...</td>\n",
       "      <td>...</td>\n",
       "      <td>...</td>\n",
       "      <td>...</td>\n",
       "      <td>...</td>\n",
       "      <td>...</td>\n",
       "      <td>...</td>\n",
       "      <td>...</td>\n",
       "      <td>...</td>\n",
       "      <td>...</td>\n",
       "      <td>...</td>\n",
       "    </tr>\n",
       "    <tr>\n",
       "      <td>1327</td>\n",
       "      <td>2020-05-18</td>\n",
       "      <td>5.30</td>\n",
       "      <td>5.43</td>\n",
       "      <td>4.88</td>\n",
       "      <td>5.29</td>\n",
       "      <td>5.29</td>\n",
       "      <td>10476300.0</td>\n",
       "      <td>17.475000</td>\n",
       "      <td>100.00</td>\n",
       "      <td>57.142857</td>\n",
       "    </tr>\n",
       "    <tr>\n",
       "      <td>1328</td>\n",
       "      <td>2020-05-19</td>\n",
       "      <td>5.42</td>\n",
       "      <td>6.08</td>\n",
       "      <td>5.38</td>\n",
       "      <td>5.86</td>\n",
       "      <td>5.86</td>\n",
       "      <td>13049700.0</td>\n",
       "      <td>17.895000</td>\n",
       "      <td>100.00</td>\n",
       "      <td>57.142857</td>\n",
       "    </tr>\n",
       "    <tr>\n",
       "      <td>1329</td>\n",
       "      <td>2020-05-20</td>\n",
       "      <td>5.97</td>\n",
       "      <td>6.05</td>\n",
       "      <td>5.69</td>\n",
       "      <td>5.97</td>\n",
       "      <td>5.97</td>\n",
       "      <td>7667400.0</td>\n",
       "      <td>17.990000</td>\n",
       "      <td>100.00</td>\n",
       "      <td>64.285714</td>\n",
       "    </tr>\n",
       "    <tr>\n",
       "      <td>1330</td>\n",
       "      <td>2020-05-21</td>\n",
       "      <td>5.75</td>\n",
       "      <td>5.80</td>\n",
       "      <td>5.44</td>\n",
       "      <td>5.70</td>\n",
       "      <td>5.70</td>\n",
       "      <td>6193400.0</td>\n",
       "      <td>17.424999</td>\n",
       "      <td>100.00</td>\n",
       "      <td>64.285714</td>\n",
       "    </tr>\n",
       "    <tr>\n",
       "      <td>1331</td>\n",
       "      <td>2020-05-22</td>\n",
       "      <td>5.75</td>\n",
       "      <td>5.87</td>\n",
       "      <td>5.44</td>\n",
       "      <td>5.51</td>\n",
       "      <td>5.51</td>\n",
       "      <td>5860300.0</td>\n",
       "      <td>17.690001</td>\n",
       "      <td>100.00</td>\n",
       "      <td>57.142857</td>\n",
       "    </tr>\n",
       "  </tbody>\n",
       "</table>\n",
       "<p>1332 rows × 10 columns</p>\n",
       "</div>"
      ],
      "text/plain": [
       "           Date  Open  High   Low  Close  Adj Close      Volume  \\\n",
       "0    2015-01-23  6.24  6.25  5.93   5.99       5.99   2234000.0   \n",
       "1    2015-01-26  5.85  6.13  5.69   6.11       6.11   2149800.0   \n",
       "2    2015-01-27  6.14  6.42  6.12   6.32       6.32   3697700.0   \n",
       "3    2015-01-28  6.23  6.36  5.89   5.99       5.99   2668300.0   \n",
       "4    2015-01-29  5.83  6.00  5.66   5.94       5.94   2988900.0   \n",
       "...         ...   ...   ...   ...    ...        ...         ...   \n",
       "1327 2020-05-18  5.30  5.43  4.88   5.29       5.29  10476300.0   \n",
       "1328 2020-05-19  5.42  6.08  5.38   5.86       5.86  13049700.0   \n",
       "1329 2020-05-20  5.97  6.05  5.69   5.97       5.97   7667400.0   \n",
       "1330 2020-05-21  5.75  5.80  5.44   5.70       5.70   6193400.0   \n",
       "1331 2020-05-22  5.75  5.87  5.44   5.51       5.51   5860300.0   \n",
       "\n",
       "      SI=F Adj Close  epssurprisepct        RSI  \n",
       "0          18.284000           24.09  57.142857  \n",
       "1          17.966999           24.09  57.142857  \n",
       "2          18.068001           24.09  57.142857  \n",
       "3          18.068001           24.09  57.142857  \n",
       "4          16.757999           24.09  57.142857  \n",
       "...              ...             ...        ...  \n",
       "1327       17.475000          100.00  57.142857  \n",
       "1328       17.895000          100.00  57.142857  \n",
       "1329       17.990000          100.00  64.285714  \n",
       "1330       17.424999          100.00  64.285714  \n",
       "1331       17.690001          100.00  57.142857  \n",
       "\n",
       "[1332 rows x 10 columns]"
      ]
     },
     "execution_count": 8,
     "metadata": {},
     "output_type": "execute_result"
    }
   ],
   "source": [
    "df = pd.concat([df,df1,df2,df3],axis=1)\n",
    "df = df[['Open','High','Low','Close','Adj Close','Volume',f'{ticker1} Adj Close','epssurprisepct','RSI']]\n",
    "df = df.dropna()\n",
    "df = df.reset_index()\n",
    "df"
   ]
  },
  {
   "cell_type": "code",
   "execution_count": 9,
   "metadata": {},
   "outputs": [],
   "source": [
    "X = df.drop(['Date','Close','Open'], axis=1, inplace=True)\n",
    "y = df[['Adj Close']]"
   ]
  },
  {
   "cell_type": "code",
   "execution_count": 10,
   "metadata": {},
   "outputs": [
    {
     "data": {
      "text/plain": [
       "matrix([[  6.25      ,   5.92999983,   5.98999977, ...,  18.2840004 ,\n",
       "          24.09      ,  57.14285714],\n",
       "        [  6.13000011,   5.69000006,   6.11000013, ...,  17.96699905,\n",
       "          24.09      ,  57.14285714],\n",
       "        [  6.42000008,   6.11999989,   6.32000017, ...,  18.06800079,\n",
       "          24.09      ,  57.14285714],\n",
       "        ...,\n",
       "        [  6.05000019,   5.69000006,   5.96999979, ...,  17.98999977,\n",
       "         100.        ,  64.28571429],\n",
       "        [  5.80000019,   5.44000006,   5.69999981, ...,  17.42499924,\n",
       "         100.        ,  64.28571429],\n",
       "        [  5.86999989,   5.44000006,   5.51000023, ...,  17.69000053,\n",
       "         100.        ,  57.14285714]])"
      ]
     },
     "execution_count": 10,
     "metadata": {},
     "output_type": "execute_result"
    }
   ],
   "source": [
    "df = np.asmatrix(df)\n",
    "df"
   ]
  },
  {
   "cell_type": "code",
   "execution_count": 11,
   "metadata": {},
   "outputs": [],
   "source": [
    "from sklearn.model_selection import train_test_split\n",
    "# Split X and y into X_\n",
    "X_train, X_test, y_train, y_test = train_test_split(df, y, test_size=0.25,  random_state=0)"
   ]
  },
  {
   "cell_type": "code",
   "execution_count": 12,
   "metadata": {},
   "outputs": [
    {
     "data": {
      "text/plain": [
       "LinearRegression(copy_X=True, fit_intercept=True, n_jobs=None, normalize=False)"
      ]
     },
     "execution_count": 12,
     "metadata": {},
     "output_type": "execute_result"
    }
   ],
   "source": [
    "from sklearn.linear_model import LinearRegression\n",
    "regression_model = LinearRegression()\n",
    "regression_model.fit(X_train, y_train)"
   ]
  },
  {
   "cell_type": "code",
   "execution_count": 13,
   "metadata": {},
   "outputs": [],
   "source": [
    "intercept = regression_model.intercept_[0]"
   ]
  },
  {
   "cell_type": "code",
   "execution_count": 14,
   "metadata": {},
   "outputs": [
    {
     "data": {
      "text/plain": [
       "1.0"
      ]
     },
     "execution_count": 14,
     "metadata": {},
     "output_type": "execute_result"
    }
   ],
   "source": [
    "regression_model.score(X_test, y_test)"
   ]
  },
  {
   "cell_type": "code",
   "execution_count": 15,
   "metadata": {},
   "outputs": [
    {
     "data": {
      "text/plain": [
       "4.1213571605912256e-27"
      ]
     },
     "execution_count": 15,
     "metadata": {},
     "output_type": "execute_result"
    }
   ],
   "source": [
    "from sklearn.metrics import mean_squared_error\n",
    "y_predict = regression_model.predict(X_test)\n",
    "regression_model_mse = mean_squared_error(y_predict, y_test)\n",
    "regression_model_mse"
   ]
  },
  {
   "cell_type": "code",
   "execution_count": 16,
   "metadata": {},
   "outputs": [
    {
     "data": {
      "text/plain": [
       "6.419779716307427e-14"
      ]
     },
     "execution_count": 16,
     "metadata": {},
     "output_type": "execute_result"
    }
   ],
   "source": [
    "math.sqrt(regression_model_mse)"
   ]
  },
  {
   "cell_type": "code",
   "execution_count": 17,
   "metadata": {},
   "outputs": [
    {
     "name": "stdout",
     "output_type": "stream",
     "text": [
      "1. CDE will close at $5.44 next time window.\n",
      "2. The projected daily change is -1.2704204088744682%.\n",
      "3. CDE will be down from the previous closing of 5.510000228881836.\n"
     ]
    }
   ],
   "source": [
    "# input the latest Open, High, Low, Close, Volume\n",
    "# predicts the next day price\n",
    "data2 = web.DataReader(ticker1,'yahoo',start,dt.datetime.now())\n",
    "data1 = web.DataReader(ticker,'yahoo',start,dt.datetime.now())\n",
    "eps = df2['epssurprisepct'].iloc[-1]\n",
    "High = data1['High'].iloc[-1]\n",
    "Low = data1['Low'].iloc[-1]\n",
    "Close = data1['Adj Close'].iloc[-1]\n",
    "Volume = data1['Volume'].iloc[-1]\n",
    "Gold = data2['Adj Close'].iloc[-1]\n",
    "RSI = df3['RSI'].iloc[-1]\n",
    "prediction = regression_model.predict([[eps, High, Low, Close, Volume, Gold, RSI]])\n",
    "print(f'1. {ticker} will close at ${prediction.mean().round(3)} next time window.')\n",
    "print(f'2. The projected daily change is {(((prediction - Close) / Close)*100).mean()}%.')\n",
    "if prediction < Close:\n",
    "    print(f'3. {ticker} will be down from the previous closing of {Close}.')\n",
    "elif prediction == Close:\n",
    "    print(f'3. {ticker} will be the same as the previous closing of {Close}.')\n",
    "else:\n",
    "    print(f'3. {ticker} will be the up from the previous closing of {Close}.')"
   ]
  }
 ],
 "metadata": {
  "kernelspec": {
   "display_name": "Python 3",
   "language": "python",
   "name": "python3"
  },
  "language_info": {
   "codemirror_mode": {
    "name": "ipython",
    "version": 3
   },
   "file_extension": ".py",
   "mimetype": "text/x-python",
   "name": "python",
   "nbconvert_exporter": "python",
   "pygments_lexer": "ipython3",
   "version": "3.7.4"
  }
 },
 "nbformat": 4,
 "nbformat_minor": 2
}
