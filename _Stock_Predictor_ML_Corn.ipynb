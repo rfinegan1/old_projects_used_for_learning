{
 "cells": [
  {
   "cell_type": "code",
   "execution_count": 1,
   "metadata": {},
   "outputs": [],
   "source": [
    "import numpy as np\n",
    "import datetime as dt\n",
    "import pandas as pd\n",
    "import pandas_datareader.data as web\n",
    "import matplotlib.pyplot as plt\n",
    "import math\n",
    "import warnings\n",
    "warnings.filterwarnings(\"ignore\")"
   ]
  },
  {
   "cell_type": "code",
   "execution_count": 2,
   "metadata": {},
   "outputs": [
    {
     "data": {
      "text/html": [
       "<div>\n",
       "<style scoped>\n",
       "    .dataframe tbody tr th:only-of-type {\n",
       "        vertical-align: middle;\n",
       "    }\n",
       "\n",
       "    .dataframe tbody tr th {\n",
       "        vertical-align: top;\n",
       "    }\n",
       "\n",
       "    .dataframe thead th {\n",
       "        text-align: right;\n",
       "    }\n",
       "</style>\n",
       "<table border=\"1\" class=\"dataframe\">\n",
       "  <thead>\n",
       "    <tr style=\"text-align: right;\">\n",
       "      <th></th>\n",
       "      <th>C=F Adj Close</th>\n",
       "    </tr>\n",
       "    <tr>\n",
       "      <th>Date</th>\n",
       "      <th></th>\n",
       "    </tr>\n",
       "  </thead>\n",
       "  <tbody>\n",
       "    <tr>\n",
       "      <td>2015-01-02</td>\n",
       "      <td>395.75</td>\n",
       "    </tr>\n",
       "    <tr>\n",
       "      <td>2015-01-05</td>\n",
       "      <td>406.00</td>\n",
       "    </tr>\n",
       "    <tr>\n",
       "      <td>2015-01-06</td>\n",
       "      <td>405.00</td>\n",
       "    </tr>\n",
       "    <tr>\n",
       "      <td>2015-01-07</td>\n",
       "      <td>396.25</td>\n",
       "    </tr>\n",
       "    <tr>\n",
       "      <td>2015-01-08</td>\n",
       "      <td>394.25</td>\n",
       "    </tr>\n",
       "    <tr>\n",
       "      <td>...</td>\n",
       "      <td>...</td>\n",
       "    </tr>\n",
       "    <tr>\n",
       "      <td>2020-05-18</td>\n",
       "      <td>320.75</td>\n",
       "    </tr>\n",
       "    <tr>\n",
       "      <td>2020-05-19</td>\n",
       "      <td>321.50</td>\n",
       "    </tr>\n",
       "    <tr>\n",
       "      <td>2020-05-20</td>\n",
       "      <td>319.75</td>\n",
       "    </tr>\n",
       "    <tr>\n",
       "      <td>2020-05-21</td>\n",
       "      <td>317.75</td>\n",
       "    </tr>\n",
       "    <tr>\n",
       "      <td>2020-05-22</td>\n",
       "      <td>318.25</td>\n",
       "    </tr>\n",
       "  </tbody>\n",
       "</table>\n",
       "<p>1347 rows × 1 columns</p>\n",
       "</div>"
      ],
      "text/plain": [
       "            C=F Adj Close\n",
       "Date                     \n",
       "2015-01-02         395.75\n",
       "2015-01-05         406.00\n",
       "2015-01-06         405.00\n",
       "2015-01-07         396.25\n",
       "2015-01-08         394.25\n",
       "...                   ...\n",
       "2020-05-18         320.75\n",
       "2020-05-19         321.50\n",
       "2020-05-20         319.75\n",
       "2020-05-21         317.75\n",
       "2020-05-22         318.25\n",
       "\n",
       "[1347 rows x 1 columns]"
      ]
     },
     "execution_count": 2,
     "metadata": {},
     "output_type": "execute_result"
    }
   ],
   "source": [
    "ticker1 = 'C=F'\n",
    "start = '2015-01-01'\n",
    "end = '2020-05-10'\n",
    "#end = dt.datetime.now()\n",
    "df1 = web.DataReader(ticker1,'yahoo',start,end)\n",
    "df1[[f'{ticker1} Adj Close']] = df1[['Adj Close']]\n",
    "df1 = df1[[f'{ticker1} Adj Close']]\n",
    "df1"
   ]
  },
  {
   "cell_type": "code",
   "execution_count": 3,
   "metadata": {},
   "outputs": [],
   "source": [
    "#Small-Cap Gold Miners (ADM, BG, GPRE, INGR, MGPI)\n",
    "ticker = 'MGPI'\n",
    "start = '2015-01-01'\n",
    "end = '2020-05-10'\n",
    "#end = dt.datetime.now()\n",
    "df = web.DataReader(ticker,'yahoo',start,end)\n",
    "df = df[['Open','High','Low','Close','Adj Close','Volume']]"
   ]
  },
  {
   "cell_type": "code",
   "execution_count": 4,
   "metadata": {},
   "outputs": [],
   "source": [
    "def RSI(ticker):\n",
    "    '''Coolest function... Can see the RSI values fluctuate (usually) from 20/30 to 70/80/90.\n",
    "    Stocks that fluctuate and have good credit (or part of big indices) would be good picks \n",
    "    for trading strategy... below 50 is a buy indicator'''\n",
    "    #end = dt.datetime.now()\n",
    "    end = '2020-05-10'\n",
    "    start = '2015-01-01'\n",
    "    df = web.DataReader(ticker,'yahoo',start,end)\n",
    "    df = df[['Adj Close']]\n",
    "    # create a column called daily return\n",
    "    df['Daily Return'] = df['Adj Close'].pct_change()*100\n",
    "    # making a dataframe only for the percent return of each day\n",
    "    df['Up/Down'] = np.sign(df['Daily Return'])\n",
    "    #drop the nan values\n",
    "    df.dropna(inplace=True)\n",
    "    df['Up']=(df['Up/Down']>0).astype(int)\n",
    "    df['Down']=(df['Up/Down']<0).astype(int)\n",
    "    up = df['Up']\n",
    "    down = df['Down']\n",
    "    gain = pd.Series(up).rolling(window=14).sum()\n",
    "    loss = pd.Series(down).rolling(window=14).sum()\n",
    "    df['Gain'] = gain/14\n",
    "    df['Loss'] = loss/14\n",
    "    df['RS'] = df['Gain']/df['Loss']\n",
    "    df['RSI'] = 100 - (100/(1+df['RS']))\n",
    "    df.dropna(inplace=True)\n",
    "    df = df[['RSI']]\n",
    "    return(df)"
   ]
  },
  {
   "cell_type": "code",
   "execution_count": 5,
   "metadata": {},
   "outputs": [],
   "source": [
    "df3 = RSI(ticker)"
   ]
  },
  {
   "cell_type": "code",
   "execution_count": 6,
   "metadata": {},
   "outputs": [],
   "source": [
    "def EPS(symbol):\n",
    "    from yahoo_earnings_calendar import YahooEarningsCalendar\n",
    "    yec = YahooEarningsCalendar()\n",
    "    ticker = (yec.get_earnings_of(symbol))\n",
    "    data = pd.DataFrame(ticker)\n",
    "    df = data.dropna()\n",
    "    df['Date'] = pd.to_datetime(df['startdatetime']).dt.date\n",
    "    df = df[['Date','ticker','epsestimate','epsactual','epssurprisepct']]\n",
    "    df['Date'] = df['Date'].apply(pd.to_datetime)\n",
    "    df = df.drop_duplicates(subset='Date')\n",
    "    df = df.head(43)\n",
    "    df = df.set_index('Date')\n",
    "    df[['epssurprisepct']]\n",
    "    data1 = web.DataReader(symbol,'yahoo',start,end)\n",
    "    df1 = data1[['Adj Close']]\n",
    "    df1 = df1.sort_index(ascending=False)\n",
    "    df_combined = pd.concat([df,df1],axis=1)\n",
    "    df_combined = df_combined.fillna(method='ffill')\n",
    "    df_combined.dropna(inplace=True)\n",
    "    df_combined=df_combined[['epssurprisepct']]\n",
    "    return(df_combined)"
   ]
  },
  {
   "cell_type": "code",
   "execution_count": 7,
   "metadata": {},
   "outputs": [
    {
     "data": {
      "text/html": [
       "<div>\n",
       "<style scoped>\n",
       "    .dataframe tbody tr th:only-of-type {\n",
       "        vertical-align: middle;\n",
       "    }\n",
       "\n",
       "    .dataframe tbody tr th {\n",
       "        vertical-align: top;\n",
       "    }\n",
       "\n",
       "    .dataframe thead th {\n",
       "        text-align: right;\n",
       "    }\n",
       "</style>\n",
       "<table border=\"1\" class=\"dataframe\">\n",
       "  <thead>\n",
       "    <tr style=\"text-align: right;\">\n",
       "      <th></th>\n",
       "      <th>epssurprisepct</th>\n",
       "    </tr>\n",
       "    <tr>\n",
       "      <th>Date</th>\n",
       "      <th></th>\n",
       "    </tr>\n",
       "  </thead>\n",
       "  <tbody>\n",
       "    <tr>\n",
       "      <td>2015-01-02</td>\n",
       "      <td>71.78</td>\n",
       "    </tr>\n",
       "    <tr>\n",
       "      <td>2015-01-05</td>\n",
       "      <td>71.78</td>\n",
       "    </tr>\n",
       "    <tr>\n",
       "      <td>2015-01-06</td>\n",
       "      <td>71.78</td>\n",
       "    </tr>\n",
       "    <tr>\n",
       "      <td>2015-01-07</td>\n",
       "      <td>71.78</td>\n",
       "    </tr>\n",
       "    <tr>\n",
       "      <td>2015-01-08</td>\n",
       "      <td>71.78</td>\n",
       "    </tr>\n",
       "    <tr>\n",
       "      <td>...</td>\n",
       "      <td>...</td>\n",
       "    </tr>\n",
       "    <tr>\n",
       "      <td>2020-05-18</td>\n",
       "      <td>68.04</td>\n",
       "    </tr>\n",
       "    <tr>\n",
       "      <td>2020-05-19</td>\n",
       "      <td>68.04</td>\n",
       "    </tr>\n",
       "    <tr>\n",
       "      <td>2020-05-20</td>\n",
       "      <td>68.04</td>\n",
       "    </tr>\n",
       "    <tr>\n",
       "      <td>2020-05-21</td>\n",
       "      <td>68.04</td>\n",
       "    </tr>\n",
       "    <tr>\n",
       "      <td>2020-05-22</td>\n",
       "      <td>68.04</td>\n",
       "    </tr>\n",
       "  </tbody>\n",
       "</table>\n",
       "<p>1357 rows × 1 columns</p>\n",
       "</div>"
      ],
      "text/plain": [
       "            epssurprisepct\n",
       "Date                      \n",
       "2015-01-02           71.78\n",
       "2015-01-05           71.78\n",
       "2015-01-06           71.78\n",
       "2015-01-07           71.78\n",
       "2015-01-08           71.78\n",
       "...                    ...\n",
       "2020-05-18           68.04\n",
       "2020-05-19           68.04\n",
       "2020-05-20           68.04\n",
       "2020-05-21           68.04\n",
       "2020-05-22           68.04\n",
       "\n",
       "[1357 rows x 1 columns]"
      ]
     },
     "execution_count": 7,
     "metadata": {},
     "output_type": "execute_result"
    }
   ],
   "source": [
    "df2 = EPS(ticker)\n",
    "df2"
   ]
  },
  {
   "cell_type": "code",
   "execution_count": 8,
   "metadata": {},
   "outputs": [
    {
     "data": {
      "text/html": [
       "<div>\n",
       "<style scoped>\n",
       "    .dataframe tbody tr th:only-of-type {\n",
       "        vertical-align: middle;\n",
       "    }\n",
       "\n",
       "    .dataframe tbody tr th {\n",
       "        vertical-align: top;\n",
       "    }\n",
       "\n",
       "    .dataframe thead th {\n",
       "        text-align: right;\n",
       "    }\n",
       "</style>\n",
       "<table border=\"1\" class=\"dataframe\">\n",
       "  <thead>\n",
       "    <tr style=\"text-align: right;\">\n",
       "      <th></th>\n",
       "      <th>Date</th>\n",
       "      <th>Open</th>\n",
       "      <th>High</th>\n",
       "      <th>Low</th>\n",
       "      <th>Close</th>\n",
       "      <th>Adj Close</th>\n",
       "      <th>Volume</th>\n",
       "      <th>C=F Adj Close</th>\n",
       "      <th>epssurprisepct</th>\n",
       "      <th>RSI</th>\n",
       "    </tr>\n",
       "  </thead>\n",
       "  <tbody>\n",
       "    <tr>\n",
       "      <td>0</td>\n",
       "      <td>2015-01-23</td>\n",
       "      <td>16.100000</td>\n",
       "      <td>16.299999</td>\n",
       "      <td>15.610000</td>\n",
       "      <td>15.760000</td>\n",
       "      <td>15.059680</td>\n",
       "      <td>30600.0</td>\n",
       "      <td>386.75</td>\n",
       "      <td>71.78</td>\n",
       "      <td>50.000000</td>\n",
       "    </tr>\n",
       "    <tr>\n",
       "      <td>1</td>\n",
       "      <td>2015-01-26</td>\n",
       "      <td>15.500000</td>\n",
       "      <td>15.970000</td>\n",
       "      <td>15.500000</td>\n",
       "      <td>15.890000</td>\n",
       "      <td>15.183904</td>\n",
       "      <td>38900.0</td>\n",
       "      <td>384.00</td>\n",
       "      <td>71.78</td>\n",
       "      <td>50.000000</td>\n",
       "    </tr>\n",
       "    <tr>\n",
       "      <td>2</td>\n",
       "      <td>2015-01-27</td>\n",
       "      <td>15.850000</td>\n",
       "      <td>16.170000</td>\n",
       "      <td>15.800000</td>\n",
       "      <td>16.059999</td>\n",
       "      <td>15.346348</td>\n",
       "      <td>25000.0</td>\n",
       "      <td>381.25</td>\n",
       "      <td>71.78</td>\n",
       "      <td>57.142857</td>\n",
       "    </tr>\n",
       "    <tr>\n",
       "      <td>3</td>\n",
       "      <td>2015-01-28</td>\n",
       "      <td>15.990000</td>\n",
       "      <td>16.160000</td>\n",
       "      <td>15.700000</td>\n",
       "      <td>15.890000</td>\n",
       "      <td>15.183904</td>\n",
       "      <td>33400.0</td>\n",
       "      <td>373.25</td>\n",
       "      <td>71.78</td>\n",
       "      <td>50.000000</td>\n",
       "    </tr>\n",
       "    <tr>\n",
       "      <td>4</td>\n",
       "      <td>2015-01-29</td>\n",
       "      <td>15.860000</td>\n",
       "      <td>16.440001</td>\n",
       "      <td>15.700000</td>\n",
       "      <td>16.080000</td>\n",
       "      <td>15.365461</td>\n",
       "      <td>34200.0</td>\n",
       "      <td>371.50</td>\n",
       "      <td>71.78</td>\n",
       "      <td>57.142857</td>\n",
       "    </tr>\n",
       "    <tr>\n",
       "      <td>...</td>\n",
       "      <td>...</td>\n",
       "      <td>...</td>\n",
       "      <td>...</td>\n",
       "      <td>...</td>\n",
       "      <td>...</td>\n",
       "      <td>...</td>\n",
       "      <td>...</td>\n",
       "      <td>...</td>\n",
       "      <td>...</td>\n",
       "      <td>...</td>\n",
       "    </tr>\n",
       "    <tr>\n",
       "      <td>1328</td>\n",
       "      <td>2020-05-18</td>\n",
       "      <td>35.830002</td>\n",
       "      <td>36.820000</td>\n",
       "      <td>35.470001</td>\n",
       "      <td>36.000000</td>\n",
       "      <td>35.879833</td>\n",
       "      <td>115800.0</td>\n",
       "      <td>320.75</td>\n",
       "      <td>68.04</td>\n",
       "      <td>50.000000</td>\n",
       "    </tr>\n",
       "    <tr>\n",
       "      <td>1329</td>\n",
       "      <td>2020-05-19</td>\n",
       "      <td>35.840000</td>\n",
       "      <td>36.450001</td>\n",
       "      <td>35.340000</td>\n",
       "      <td>35.389999</td>\n",
       "      <td>35.271870</td>\n",
       "      <td>92000.0</td>\n",
       "      <td>321.50</td>\n",
       "      <td>68.04</td>\n",
       "      <td>42.857143</td>\n",
       "    </tr>\n",
       "    <tr>\n",
       "      <td>1330</td>\n",
       "      <td>2020-05-20</td>\n",
       "      <td>36.160000</td>\n",
       "      <td>36.660000</td>\n",
       "      <td>35.480000</td>\n",
       "      <td>35.950001</td>\n",
       "      <td>35.830002</td>\n",
       "      <td>92800.0</td>\n",
       "      <td>319.75</td>\n",
       "      <td>68.04</td>\n",
       "      <td>50.000000</td>\n",
       "    </tr>\n",
       "    <tr>\n",
       "      <td>1331</td>\n",
       "      <td>2020-05-21</td>\n",
       "      <td>35.720001</td>\n",
       "      <td>35.990002</td>\n",
       "      <td>35.259998</td>\n",
       "      <td>35.340000</td>\n",
       "      <td>35.340000</td>\n",
       "      <td>90200.0</td>\n",
       "      <td>317.75</td>\n",
       "      <td>68.04</td>\n",
       "      <td>42.857143</td>\n",
       "    </tr>\n",
       "    <tr>\n",
       "      <td>1332</td>\n",
       "      <td>2020-05-22</td>\n",
       "      <td>35.570000</td>\n",
       "      <td>35.889999</td>\n",
       "      <td>34.700001</td>\n",
       "      <td>35.369999</td>\n",
       "      <td>35.369999</td>\n",
       "      <td>77900.0</td>\n",
       "      <td>318.25</td>\n",
       "      <td>68.04</td>\n",
       "      <td>42.857143</td>\n",
       "    </tr>\n",
       "  </tbody>\n",
       "</table>\n",
       "<p>1333 rows × 10 columns</p>\n",
       "</div>"
      ],
      "text/plain": [
       "           Date       Open       High        Low      Close  Adj Close  \\\n",
       "0    2015-01-23  16.100000  16.299999  15.610000  15.760000  15.059680   \n",
       "1    2015-01-26  15.500000  15.970000  15.500000  15.890000  15.183904   \n",
       "2    2015-01-27  15.850000  16.170000  15.800000  16.059999  15.346348   \n",
       "3    2015-01-28  15.990000  16.160000  15.700000  15.890000  15.183904   \n",
       "4    2015-01-29  15.860000  16.440001  15.700000  16.080000  15.365461   \n",
       "...         ...        ...        ...        ...        ...        ...   \n",
       "1328 2020-05-18  35.830002  36.820000  35.470001  36.000000  35.879833   \n",
       "1329 2020-05-19  35.840000  36.450001  35.340000  35.389999  35.271870   \n",
       "1330 2020-05-20  36.160000  36.660000  35.480000  35.950001  35.830002   \n",
       "1331 2020-05-21  35.720001  35.990002  35.259998  35.340000  35.340000   \n",
       "1332 2020-05-22  35.570000  35.889999  34.700001  35.369999  35.369999   \n",
       "\n",
       "        Volume  C=F Adj Close  epssurprisepct        RSI  \n",
       "0      30600.0         386.75           71.78  50.000000  \n",
       "1      38900.0         384.00           71.78  50.000000  \n",
       "2      25000.0         381.25           71.78  57.142857  \n",
       "3      33400.0         373.25           71.78  50.000000  \n",
       "4      34200.0         371.50           71.78  57.142857  \n",
       "...        ...            ...             ...        ...  \n",
       "1328  115800.0         320.75           68.04  50.000000  \n",
       "1329   92000.0         321.50           68.04  42.857143  \n",
       "1330   92800.0         319.75           68.04  50.000000  \n",
       "1331   90200.0         317.75           68.04  42.857143  \n",
       "1332   77900.0         318.25           68.04  42.857143  \n",
       "\n",
       "[1333 rows x 10 columns]"
      ]
     },
     "execution_count": 8,
     "metadata": {},
     "output_type": "execute_result"
    }
   ],
   "source": [
    "df = pd.concat([df,df1,df2,df3],axis=1)\n",
    "df = df[['Open','High','Low','Close','Adj Close','Volume',f'{ticker1} Adj Close','epssurprisepct','RSI']]\n",
    "df = df.dropna()\n",
    "df = df.reset_index()\n",
    "df"
   ]
  },
  {
   "cell_type": "code",
   "execution_count": 9,
   "metadata": {},
   "outputs": [],
   "source": [
    "X = df.drop(['Date','Close','Open'], axis=1, inplace=True)\n",
    "y = df[['Adj Close']]"
   ]
  },
  {
   "cell_type": "code",
   "execution_count": 10,
   "metadata": {},
   "outputs": [
    {
     "data": {
      "text/plain": [
       "matrix([[ 16.29999924,  15.60999966,  15.05967999, ..., 386.75      ,\n",
       "          71.78      ,  50.        ],\n",
       "        [ 15.97000027,  15.5       ,  15.18390369, ..., 384.        ,\n",
       "          71.78      ,  50.        ],\n",
       "        [ 16.17000008,  15.80000019,  15.34634781, ..., 381.25      ,\n",
       "          71.78      ,  57.14285714],\n",
       "        ...,\n",
       "        [ 36.65999985,  35.47999954,  35.83000183, ..., 319.75      ,\n",
       "          68.04      ,  50.        ],\n",
       "        [ 35.99000168,  35.25999832,  35.34000015, ..., 317.75      ,\n",
       "          68.04      ,  42.85714286],\n",
       "        [ 35.88999939,  34.70000076,  35.36999893, ..., 318.25      ,\n",
       "          68.04      ,  42.85714286]])"
      ]
     },
     "execution_count": 10,
     "metadata": {},
     "output_type": "execute_result"
    }
   ],
   "source": [
    "df = np.asmatrix(df)\n",
    "df"
   ]
  },
  {
   "cell_type": "code",
   "execution_count": 11,
   "metadata": {},
   "outputs": [],
   "source": [
    "from sklearn.model_selection import train_test_split\n",
    "# Split X and y into X_\n",
    "X_train, X_test, y_train, y_test = train_test_split(df, y, test_size=0.25,  random_state=0)"
   ]
  },
  {
   "cell_type": "code",
   "execution_count": 12,
   "metadata": {},
   "outputs": [
    {
     "data": {
      "text/plain": [
       "LinearRegression(copy_X=True, fit_intercept=True, n_jobs=None, normalize=False)"
      ]
     },
     "execution_count": 12,
     "metadata": {},
     "output_type": "execute_result"
    }
   ],
   "source": [
    "from sklearn.linear_model import LinearRegression\n",
    "regression_model = LinearRegression()\n",
    "regression_model.fit(X_train, y_train)"
   ]
  },
  {
   "cell_type": "code",
   "execution_count": 13,
   "metadata": {},
   "outputs": [],
   "source": [
    "intercept = regression_model.intercept_[0]"
   ]
  },
  {
   "cell_type": "code",
   "execution_count": 14,
   "metadata": {},
   "outputs": [
    {
     "data": {
      "text/plain": [
       "1.0"
      ]
     },
     "execution_count": 14,
     "metadata": {},
     "output_type": "execute_result"
    }
   ],
   "source": [
    "regression_model.score(X_test, y_test)"
   ]
  },
  {
   "cell_type": "code",
   "execution_count": 15,
   "metadata": {},
   "outputs": [
    {
     "data": {
      "text/plain": [
       "2.85456936966606e-24"
      ]
     },
     "execution_count": 15,
     "metadata": {},
     "output_type": "execute_result"
    }
   ],
   "source": [
    "from sklearn.metrics import mean_squared_error\n",
    "y_predict = regression_model.predict(X_test)\n",
    "regression_model_mse = mean_squared_error(y_predict, y_test)\n",
    "regression_model_mse"
   ]
  },
  {
   "cell_type": "code",
   "execution_count": 16,
   "metadata": {},
   "outputs": [
    {
     "data": {
      "text/plain": [
       "1.689547090100202e-12"
      ]
     },
     "execution_count": 16,
     "metadata": {},
     "output_type": "execute_result"
    }
   ],
   "source": [
    "math.sqrt(regression_model_mse)"
   ]
  },
  {
   "cell_type": "code",
   "execution_count": 17,
   "metadata": {},
   "outputs": [
    {
     "name": "stdout",
     "output_type": "stream",
     "text": [
      "1. MGPI will close at $34.7 next time window.\n",
      "2. The projected daily change is -1.894255553240318%.\n",
      "3. MGPI will be down from the previous closing of 35.369998931884766.\n"
     ]
    }
   ],
   "source": [
    "# input the latest Open, High, Low, Close, Volume\n",
    "# predicts the next day price\n",
    "data2 = web.DataReader(ticker1,'yahoo',start,dt.datetime.now())\n",
    "data1 = web.DataReader(ticker,'yahoo',start,dt.datetime.now())\n",
    "eps = df2['epssurprisepct'].iloc[-1]\n",
    "High = data1['High'].iloc[-1]\n",
    "Low = data1['Low'].iloc[-1]\n",
    "Close = data1['Adj Close'].iloc[-1]\n",
    "Volume = data1['Volume'].iloc[-1]\n",
    "Gold = data2['Adj Close'].iloc[-1]\n",
    "RSI = df3['RSI'].iloc[-1]\n",
    "prediction = regression_model.predict([[eps, High, Low, Close, Volume, Gold, RSI]])\n",
    "print(f'1. {ticker} will close at ${prediction.mean().round(3)} next time window.')\n",
    "print(f'2. The projected daily change is {(((prediction - Close) / Close)*100).mean()}%.')\n",
    "if prediction < Close:\n",
    "    print(f'3. {ticker} will be down from the previous closing of {Close}.')\n",
    "elif prediction == Close:\n",
    "    print(f'3. {ticker} will be the same as the previous closing of {Close}.')\n",
    "else:\n",
    "    print(f'3. {ticker} will be the up from the previous closing of {Close}.')"
   ]
  }
 ],
 "metadata": {
  "kernelspec": {
   "display_name": "Python 3",
   "language": "python",
   "name": "python3"
  },
  "language_info": {
   "codemirror_mode": {
    "name": "ipython",
    "version": 3
   },
   "file_extension": ".py",
   "mimetype": "text/x-python",
   "name": "python",
   "nbconvert_exporter": "python",
   "pygments_lexer": "ipython3",
   "version": "3.7.4"
  }
 },
 "nbformat": 4,
 "nbformat_minor": 2
}
