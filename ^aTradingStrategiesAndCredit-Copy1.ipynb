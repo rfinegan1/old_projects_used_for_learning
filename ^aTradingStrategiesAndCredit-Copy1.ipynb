{
 "cells": [
  {
   "cell_type": "code",
   "execution_count": 3,
   "metadata": {},
   "outputs": [],
   "source": [
    "#Ryan Finegan Capital Markets Algorithms\n",
    "import pandas as pd\n",
    "import pandas_datareader.data as web\n",
    "import numpy as np\n",
    "import math\n",
    "import datetime as dt\n",
    "import matplotlib as mpl\n",
    "import matplotlib.pyplot as plt\n",
    "import statistics as stats\n",
    "from matplotlib import style\n",
    "import warnings\n",
    "import seaborn as sns\n",
    "import requests\n",
    "import bs4 as bs\n",
    "import os\n",
    "import csv\n",
    "warnings.filterwarnings('ignore')"
   ]
  },
  {
   "cell_type": "code",
   "execution_count": 19,
   "metadata": {},
   "outputs": [],
   "source": [
    "'''Correlations between big time technology companies like\n",
    "google, microsoft, and apple & the overal market (SPY)'''\n",
    "def changeDate_corr():\n",
    "    end = dt.datetime.now()\n",
    "    #change the number after the days=... 252 would be the amount of trading days in a year\n",
    "    start = end - dt.timedelta(days=252)\n",
    "    symbols_list = ['AAPL', 'TWTR', 'FB', 'SPY', 'AMZN', 'GOOGL', 'MSFT']\n",
    "    symbols=[]\n",
    "    for ticker in symbols_list: \n",
    "        r = web.DataReader(ticker,'yahoo',start,end)\n",
    "        r['Symbol'] = ticker \n",
    "        symbols.append(r)\n",
    "    df = pd.concat(symbols)\n",
    "    df = df.reset_index()\n",
    "    df = df[['Date', 'Adj Close', 'Symbol']]\n",
    "    df.head()\n",
    "    #just making the table easier to read by flipping it \n",
    "    df_pivot = df.pivot('Date','Symbol','Adj Close').reset_index()\n",
    "    df_pivot.head()\n",
    "    corr_df = df_pivot.corr(method='pearson')\n",
    "    corr_df.head().reset_index()\n",
    "    del corr_df.index.name\n",
    "    print(corr_df.head(15))"
   ]
  },
  {
   "cell_type": "code",
   "execution_count": 20,
   "metadata": {
    "jupyter": {
     "outputs_hidden": true
    },
    "scrolled": true
   },
   "outputs": [
    {
     "name": "stdout",
     "output_type": "stream",
     "text": [
      "Symbol      AAPL      AMZN        FB     GOOGL      MSFT       SPY      TWTR\n",
      "AAPL    1.000000  0.611116  0.650394  0.866249  0.923955  0.658554 -0.438764\n",
      "AMZN    0.611116  1.000000  0.317713  0.541682  0.819728  0.317569 -0.078960\n",
      "FB      0.650394  0.317713  1.000000  0.905139  0.569548  0.962890  0.156643\n",
      "GOOGL   0.866249  0.541682  0.905139  1.000000  0.817531  0.924829 -0.041731\n",
      "MSFT    0.923955  0.819728  0.569548  0.817531  1.000000  0.589973 -0.313995\n",
      "SPY     0.658554  0.317569  0.962890  0.924829  0.589973  1.000000  0.181709\n",
      "TWTR   -0.438764 -0.078960  0.156643 -0.041731 -0.313995  0.181709  1.000000\n"
     ]
    }
   ],
   "source": [
    "changeDate_corr()"
   ]
  },
  {
   "cell_type": "code",
   "execution_count": 21,
   "metadata": {},
   "outputs": [],
   "source": [
    "'''Correlation among the overal market(SPY) \n",
    "and mining/precious metals companies'''\n",
    "def correlation():\n",
    "    start = dt.datetime(2017, 1, 1)\n",
    "    end = dt.datetime.now()\n",
    "    #change the symbols_list to see new correlations\n",
    "    symbols_list = ['GDXJ', 'AUY', 'HMY', 'SIL', 'SLVP', 'GOLD', 'SPY']\n",
    "    symbols=[]\n",
    "    for ticker in symbols_list: \n",
    "        r = web.DataReader(ticker,'yahoo',start,end)\n",
    "        r['Symbol'] = ticker \n",
    "        symbols.append(r)\n",
    "    df = pd.concat(symbols)\n",
    "    df = df.reset_index()\n",
    "    df = df[['Date', 'Adj Close', 'Symbol']]\n",
    "    df.head()\n",
    "    #just making the table easier to read by flipping it\n",
    "    df_pivot = df.pivot('Date','Symbol','Adj Close').reset_index()\n",
    "    df_pivot.head()\n",
    "    #this actually makes the correlations between the stocks given the selected time frame\n",
    "    corr_df = df_pivot.corr(method='pearson')\n",
    "    corr_df.head().reset_index()\n",
    "    del corr_df.index.name\n",
    "    print(corr_df.head(20))"
   ]
  },
  {
   "cell_type": "code",
   "execution_count": 22,
   "metadata": {
    "jupyter": {
     "outputs_hidden": true
    }
   },
   "outputs": [
    {
     "name": "stdout",
     "output_type": "stream",
     "text": [
      "Symbol       AUY      GDXJ      GOLD       HMY       SIL      SLVP       SPY\n",
      "AUY     1.000000  0.806307  0.626129  0.808251  0.393057  0.492319  0.464931\n",
      "GDXJ    0.806307  1.000000  0.677426  0.814767  0.614550  0.710471  0.309361\n",
      "GOLD    0.626129  0.677426  1.000000  0.833802 -0.007953  0.072694  0.599291\n",
      "HMY     0.808251  0.814767  0.833802  1.000000  0.269615  0.344676  0.515135\n",
      "SIL     0.393057  0.614550 -0.007953  0.269615  1.000000  0.975633 -0.437132\n",
      "SLVP    0.492319  0.710471  0.072694  0.344676  0.975633  1.000000 -0.302980\n",
      "SPY     0.464931  0.309361  0.599291  0.515135 -0.437132 -0.302980  1.000000\n"
     ]
    }
   ],
   "source": [
    "correlation()"
   ]
  },
  {
   "cell_type": "code",
   "execution_count": 11,
   "metadata": {},
   "outputs": [],
   "source": [
    "def lowRSI_linearUp(t1,t2,t3):\n",
    "    '''Checks if one of or all three of the stocks are having positive yearly\n",
    "    returns and are currently oversold according to my stochastic oscillator \n",
    "    which would result in a buy.'''\n",
    "    #would like to pair it with % of analysts that think the stock is a buy\n",
    "    #https://www.tradingview.com/markets/stocks-usa/market-movers-most-volatile/\n",
    "    start = dt.datetime(2016,1,1)\n",
    "    end = dt.datetime.now()\n",
    "    df1 = web.DataReader(t1,'yahoo',start,end)\n",
    "    df2 = web.DataReader(t2,'yahoo',start,end)\n",
    "    df3 = web.DataReader(t3,'yahoo',start,end)\n",
    "    #recent close of ticker 1,2,& 3\n",
    "    recentClose1 = df1.tail(1)\n",
    "    recentClose2 = df2.tail(1)\n",
    "    recentClose3 = df3.tail(1)\n",
    "    #recent Adj close of 1 and 2 \n",
    "    c1 = (recentClose1['Adj Close'].mean())\n",
    "    c2 = (recentClose2['Adj Close'].mean())\n",
    "    c3 = (recentClose3['Adj Close'].mean())\n",
    "    #day 14 stats of all tickers\n",
    "    day14prices1 = df1.tail(14)\n",
    "    day14prices2 = df2.tail(14)\n",
    "    day14prices3 = df3.tail(14)\n",
    "    #lowest and highest Adj Closes of the last 14 trading sessions\n",
    "    L14_t1 = (day14prices1['Low'].min())\n",
    "    H14_t1 = (day14prices1['High'].max())\n",
    "    L14_t2 = (day14prices2['Low'].min())\n",
    "    H14_t2 = (day14prices2['High'].max())\n",
    "    L14_t3 = (day14prices3['Low'].min())\n",
    "    H14_t3 = (day14prices3['High'].max())\n",
    "    #K formula for all tickers\n",
    "    #Shows the RSI for all stocks \n",
    "    #will see if any are oversold of it is below 30\n",
    "    K1 = 100*((c1-L14_t1)/(H14_t1-L14_t1))\n",
    "    K2 = 100*((c2-L14_t2)/(H14_t2-L14_t2))\n",
    "    K3 = 100*((c3-L14_t3)/(H14_t3-L14_t3))\n",
    "    #Year returns of the first stock\n",
    "    df1historyYear = df1.tail(252)\n",
    "    df1recent = df1.tail(1)\n",
    "    df1recentAdjClose = (df1recent['Adj Close'].mean())\n",
    "    df1initial = df1historyYear.head(1)\n",
    "    df1initialAdjClose = (df1initial['Adj Close'].mean())\n",
    "    t1yearReturns = (100*(df1recentAdjClose - df1initialAdjClose)/df1initialAdjClose)\n",
    "    print(f'The yearly historical return of {t1} is {t1yearReturns}')\n",
    "    #Year returns of the second stock\n",
    "    df2historyYear = df2.tail(252)\n",
    "    df2recent = df2.tail(1)\n",
    "    df2recentAdjClose = (df2recent['Adj Close'].mean())\n",
    "    df2initial = df2historyYear.head(1)\n",
    "    df2initialAdjClose = (df2initial['Adj Close'].mean())\n",
    "    t2yearReturns = (100*(df2recentAdjClose - df2initialAdjClose)/df2initialAdjClose)\n",
    "    print(f'The yearly historical return of {t2} is {t2yearReturns}')\n",
    "    #Year returns of the thrid stock\n",
    "    df3historyYear = df3.tail(252)\n",
    "    df3recent = df3.tail(1)\n",
    "    df3recentAdjClose = (df3recent['Adj Close'].mean())\n",
    "    df3initial = df3historyYear.head(1)\n",
    "    df3initialAdjClose = (df3initial['Adj Close'].mean())\n",
    "    t3yearReturns = (100*(df3recentAdjClose - df3initialAdjClose)/df3initialAdjClose)\n",
    "    print(f'The yearly historical return of {t3} is {t3yearReturns}')\n",
    "    if K1 <= 30 and K2 <= 30 and K3 <= 30 and t1yearReturns>=0 and t2yearReturns>=0 and t3yearReturns>=0:\n",
    "        print(f'BUY ALL: {t1} is {K1} and {t2} is {K2} and {t3} is {K3}\\nALL HAVE POSITIVE YEARLY RETURNS.')\n",
    "    elif K1 <= 30 and t1yearReturns>=0:\n",
    "        print(f'BUY: {t1} is {K1} and it is a positive yearly earnings of {t1yearReturns}. \\n{t2} is {K2} and {t3} is {K3}')\n",
    "    elif K2 <= 30 and t2yearReturns>=0:\n",
    "        print(f'BUY: {t2} is {K2} and it is a positive yearly earnings of {t2yearReturns}. \\n{t1} is {K1} and {t3} is {K3}')\n",
    "    elif K3 <= 30 and t3yearReturns>=0:\n",
    "        print(f'BUY: {t3} is {K3} and it is a positive yearly earnings of {t3yearReturns}. \\n{t1} is {K1} and {t2} is {K2}')\n",
    "    else:\n",
    "        print(f'{t1} is {K1} and {t2} is {K2} and {t3} is {K3}.')"
   ]
  },
  {
   "cell_type": "code",
   "execution_count": 12,
   "metadata": {
    "scrolled": false
   },
   "outputs": [
    {
     "name": "stdout",
     "output_type": "stream",
     "text": [
      "The yearly historical return of ETH-USD is -21.855168398987335\n",
      "The yearly historical return of DOGE-USD is -30.93655177663923\n",
      "The yearly historical return of LTC-USD is -53.2237680635466\n",
      "ETH-USD is 91.66525627040694 and DOGE-USD is 91.38498663882298 and LTC-USD is 89.75274748326947.\n"
     ]
    }
   ],
   "source": [
    "lowRSI_linearUp('ETH-USD','DOGE-USD','LTC-USD')"
   ]
  },
  {
   "cell_type": "code",
   "execution_count": 13,
   "metadata": {
    "jupyter": {
     "outputs_hidden": true,
     "source_hidden": true
    },
    "scrolled": true
   },
   "outputs": [
    {
     "name": "stdout",
     "output_type": "stream",
     "text": [
      "The yearly historical return of SIL is -2.5059964298965487\n",
      "The yearly historical return of SLVP is -7.402599520505361\n",
      "The yearly historical return of VKTX is -53.31355142950691\n",
      "SIL is 74.78259777591282 and SLVP is 69.13791626443809 and VKTX is 75.91622644524112.\n"
     ]
    }
   ],
   "source": [
    "lowRSI_linearUp('SIL','SLVP','VKTX')"
   ]
  },
  {
   "cell_type": "code",
   "execution_count": 14,
   "metadata": {
    "jupyter": {
     "outputs_hidden": true,
     "source_hidden": true
    }
   },
   "outputs": [
    {
     "name": "stdout",
     "output_type": "stream",
     "text": [
      "The yearly historical return of GDXJ is -1.518379124858398\n",
      "The yearly historical return of AUY is 27.16736103793669\n",
      "The yearly historical return of HMY is 14.663465285795112\n",
      "GDXJ is 68.72157252880768 and AUY is 83.8235328491722 and HMY is 52.966098698416474.\n"
     ]
    }
   ],
   "source": [
    "lowRSI_linearUp('GDXJ','AUY','HMY')"
   ]
  },
  {
   "cell_type": "code",
   "execution_count": 15,
   "metadata": {
    "jupyter": {
     "outputs_hidden": true,
     "source_hidden": true
    }
   },
   "outputs": [
    {
     "name": "stdout",
     "output_type": "stream",
     "text": [
      "The yearly historical return of AAPL is 33.423062442083854\n",
      "The yearly historical return of MSFT is 40.89071392005647\n",
      "The yearly historical return of GOOG is 0.12445105319482147\n",
      "AAPL is 84.83665558603526 and MSFT is 88.95410922737513 and GOOG is 87.58180536658213.\n"
     ]
    }
   ],
   "source": [
    "lowRSI_linearUp('AAPL','MSFT','GOOG')"
   ]
  },
  {
   "cell_type": "code",
   "execution_count": 16,
   "metadata": {
    "jupyter": {
     "outputs_hidden": true,
     "source_hidden": true
    }
   },
   "outputs": [
    {
     "name": "stdout",
     "output_type": "stream",
     "text": [
      "The yearly historical return of TSLA is 103.12059077531079\n",
      "The yearly historical return of VKTX is -53.46191806645025\n",
      "The yearly historical return of SIL is -2.5059964298965487\n",
      "TSLA is 94.24696246385328 and VKTX is 74.60733746758672 and SIL is 74.78259777591282.\n"
     ]
    }
   ],
   "source": [
    "lowRSI_linearUp('TSLA','VKTX','SIL')"
   ]
  },
  {
   "cell_type": "code",
   "execution_count": 23,
   "metadata": {},
   "outputs": [],
   "source": [
    "def historicalPrices(ticker):\n",
    "    #stats for historical adj close prices for 30,90,252,504 days\n",
    "    plt.style.use('ggplot')\n",
    "    start = dt.datetime(2016,1,1)\n",
    "    end = dt.datetime.now()\n",
    "    df = web.DataReader(ticker, 'yahoo', start, end)\n",
    "    day30prices = df.tail(30)\n",
    "    day90prices = df.tail(90)\n",
    "    yrPrices = df.tail(252)\n",
    "    yr2Prices = df.tail(504)\n",
    "    print(day30prices['Adj Close'].describe())\n",
    "    print(day90prices['Adj Close'].describe())\n",
    "    print(yrPrices['Adj Close'].describe())\n",
    "    print(yr2Prices['Adj Close'].describe())"
   ]
  },
  {
   "cell_type": "code",
   "execution_count": 24,
   "metadata": {
    "jupyter": {
     "outputs_hidden": true
    }
   },
   "outputs": [
    {
     "name": "stdout",
     "output_type": "stream",
     "text": [
      "count    30.000000\n",
      "mean      4.880333\n",
      "std       0.846805\n",
      "min       3.450000\n",
      "25%       4.320000\n",
      "50%       4.660000\n",
      "75%       5.750000\n",
      "max       6.440000\n",
      "Name: Adj Close, dtype: float64\n",
      "count    90.000000\n",
      "mean      6.474500\n",
      "std       1.335058\n",
      "min       3.450000\n",
      "25%       5.830000\n",
      "50%       6.745000\n",
      "75%       7.553750\n",
      "max       8.730000\n",
      "Name: Adj Close, dtype: float64\n",
      "count    252.000000\n",
      "mean       7.229266\n",
      "std        1.160807\n",
      "min        3.450000\n",
      "25%        6.687500\n",
      "50%        7.325000\n",
      "75%        8.020000\n",
      "max       10.130000\n",
      "Name: Adj Close, dtype: float64\n",
      "count    504.000000\n",
      "mean       8.534196\n",
      "std        2.769648\n",
      "min        3.450000\n",
      "25%        6.917500\n",
      "50%        8.055000\n",
      "75%        9.975000\n",
      "max       19.650000\n",
      "Name: Adj Close, dtype: float64\n"
     ]
    }
   ],
   "source": [
    "historicalPrices('VKTX')"
   ]
  },
  {
   "cell_type": "code",
   "execution_count": 61,
   "metadata": {},
   "outputs": [],
   "source": [
    "def volatility(ticker):\n",
    "    #returns std for ticker on yahoo API\n",
    "    plt.style.use('ggplot')\n",
    "    start = dt.datetime(2016,1,1)\n",
    "    end = dt.datetime.now()\n",
    "    df = web.DataReader(ticker, 'yahoo', start, end)\n",
    "    day30prices = df.tail(30)\n",
    "    day90prices = df.tail(90)\n",
    "    yrPrices = df.tail(252)\n",
    "    yr2Prices = df.tail(504)\n",
    "    day30std = (day30prices['Adj Close'].std())\n",
    "    day90std = (day90prices['Adj Close'].std())\n",
    "    yrStd = (yrPrices['Adj Close'].std())\n",
    "    yr2Std = (yr2Prices['Adj Close'].std())\n",
    "    print(f'{ticker} volatility\\n30 days: {day30std} \\n90 day: {day90std} \\nyear: {yrStd} \\n2 year: {yr2Std}') "
   ]
  },
  {
   "cell_type": "code",
   "execution_count": 62,
   "metadata": {},
   "outputs": [
    {
     "name": "stdout",
     "output_type": "stream",
     "text": [
      "TSLA volatility\n",
      "30 days; 40.482250323237004 \n",
      "90 day: 40.956580155656155 \n",
      "year: 47.5644938697185 \n",
      "2 year: 44.328577388167616\n"
     ]
    }
   ],
   "source": [
    "volatility('TSLA')"
   ]
  },
  {
   "cell_type": "code",
   "execution_count": 42,
   "metadata": {},
   "outputs": [],
   "source": [
    "def stochastic(ticker):\n",
    "    start = dt.datetime(2016,1,1)\n",
    "    end = dt.datetime.now()\n",
    "    df = web.DataReader(ticker, 'yahoo', start, end)\n",
    "    recentClose = df.tail(1)\n",
    "    c = (recentClose['Adj Close'].mean())\n",
    "    day3prices = df.tail(3)\n",
    "    day14prices = df.tail(14)\n",
    "    day28prices = df.tail(28)\n",
    "    yrPrices = df.tail(252)\n",
    "    yr2Prices = df.tail(504)\n",
    "    L14 = (day14prices['Low'].min())\n",
    "    L28 = (day28prices['Low'].min())\n",
    "    lowYear = (yrPrices['Low'].min())\n",
    "    low2Year = (yr2Prices['Low'].min())\n",
    "    H14 = (day14prices['High'].max())\n",
    "    K = 100*((c-L14)/(H14-L14))\n",
    "    print(f'K of {ticker} is {K}.')\n",
    "    L3 = (day3prices['Low'].min())\n",
    "    H3 = (day3prices['High'].max())\n",
    "    #this is the d line that makes more sense\n",
    "    D = 100*((c-L3)/(H3-L3))\n",
    "    #This is what investopedia said the d line should have been\n",
    "    #100*(H3/L3)\n",
    "    print(f'D of {ticker} is {D}')"
   ]
  },
  {
   "cell_type": "code",
   "execution_count": 43,
   "metadata": {},
   "outputs": [
    {
     "name": "stdout",
     "output_type": "stream",
     "text": [
      "K of AUY is 83.32560782900391.\n",
      "D of AUY is 60.16670772768333\n"
     ]
    }
   ],
   "source": [
    "stochastic('AUY')"
   ]
  },
  {
   "cell_type": "code",
   "execution_count": 55,
   "metadata": {},
   "outputs": [],
   "source": [
    "def meanReversion(ticker):\n",
    "    #would want more than just the adj close \n",
    "    #would like mean of each day but the api I have I can't find that option\n",
    "    #using mean of adj close of time periods and seeing if most recent adj close is lower \n",
    "    #would buy if it is lower than the mean or for a better term, moving average\n",
    "    start = dt.datetime(2016,1,1)\n",
    "    end = dt.datetime.now()\n",
    "    df = web.DataReader(ticker, 'yahoo', start, end)\n",
    "    recentClose = df.tail(1)\n",
    "    c = (recentClose[\"Adj Close\"].mean())\n",
    "    day3 = df.tail(3)\n",
    "    day30 = df.tail(30)\n",
    "    day90 = df.tail(90)\n",
    "    day252 = df.tail(252)\n",
    "    day504 = df.tail(504)\n",
    "    day3mean = (day3['Adj Close'].mean())\n",
    "    day30mean = (day30['Adj Close'].mean())\n",
    "    day90mean = (day90['Adj Close'].mean())\n",
    "    day252mean = (day252['Adj Close'].mean())\n",
    "    day504mean = (day504['Adj Close'].mean())\n",
    "    if day3mean>c:\n",
    "        print(f'The closing price of {ticker} is {c} and it is lower than the 3 day mean of {day3mean}')\n",
    "    if day30mean>c:\n",
    "        print(f'The closing price of {ticker} is {c} and it is lower than the 30 day mean of {day30mean}')\n",
    "    if day90mean>c:\n",
    "        print(f'The closing price of {ticker} is {c} and it is lower than the 90 day mean of {day90mean}')\n",
    "    if day252mean>c:\n",
    "        print(f'The closing price of {ticker} is {c} and it is lower than the yearly mean of {day252mean}')\n",
    "    if day504mean>c:\n",
    "        print(f'The closing price of {ticker} is {c} and it is lower than the 2 year mean of {day504mean}')\n",
    "    else:\n",
    "        print(f'The closing price of {ticker} is {c} and it is greater than the 3 day mean of {day3mean}')"
   ]
  },
  {
   "cell_type": "code",
   "execution_count": 56,
   "metadata": {},
   "outputs": [
    {
     "name": "stdout",
     "output_type": "stream",
     "text": [
      "The closing price of VKTX is 7.445000171661377 and it is lower than the yearly mean of 8.011805553284903\n",
      "The closing price of VKTX is 7.445000171661377 and it is lower than the 2 year mean of 8.27322418727572\n"
     ]
    }
   ],
   "source": [
    "meanReversion('VKTX')"
   ]
  },
  {
   "cell_type": "code",
   "execution_count": 43,
   "metadata": {},
   "outputs": [],
   "source": [
    "def weightedAverage(ticker):\n",
    "    #50 day moving average and 200 day moving averages\n",
    "    #buy when the 200 day moving average crosses over 50 day moving average\n",
    "    #in other words buy when 50 day moving average is below 200 day moving average \n",
    "    #works for company that is in a simple upward trend\n",
    "    start = dt.datetime(2016,1,1)\n",
    "    end = dt.datetime.now()\n",
    "    df = web.DataReader(ticker, 'yahoo', start, end)\n",
    "    df50day = df.tail(50)\n",
    "    dfMA50day = (df50day['Adj Close'].mean())\n",
    "    df200day = df.tail(200)\n",
    "    dfMA200day = (df200day['Adj Close'].mean())\n",
    "    if dfMA50day < dfMA200day:\n",
    "        print(f'BUY:\\n{ticker}: \\n50 day moving average: {dfMA50day}\\n200 day moving average: {dfMA200day}')\n",
    "    else:\n",
    "        print(f'NOTHING:\\n{ticker}: \\n50 day moving average: {dfMA50day}\\n200 day moving average: {dfMA200day}')"
   ]
  },
  {
   "cell_type": "code",
   "execution_count": 45,
   "metadata": {},
   "outputs": [
    {
     "name": "stdout",
     "output_type": "stream",
     "text": [
      "NOTHING:\n",
      "TSLA: \n",
      "50 day moving average: 289.34546844482423\n",
      "200 day moving average: 255.84516662597656\n"
     ]
    }
   ],
   "source": [
    "weightedAverage('TSLA')"
   ]
  },
  {
   "cell_type": "code",
   "execution_count": 23,
   "metadata": {},
   "outputs": [],
   "source": [
    "def similarCompanies(ticker1, ticker2):\n",
    "    #algorithm works when the two companies or stocks are similar\n",
    "    #in other words have similar moving standard deviations\n",
    "    start = dt.datetime(2016,1,1)\n",
    "    end = dt.datetime.now()\n",
    "    df1 = web.DataReader(ticker1, 'yahoo', start, end)\n",
    "    df2 = web.DataReader(ticker2, 'yahoo', start, end)\n",
    "    df1_20day = df1.tail(20)\n",
    "    df2_20day = df2.tail(20)\n",
    "    day20stdTicker1 = (df1_20day['Adj Close'].std())\n",
    "    day20stdTicker2 = (df2_20day['Adj Close'].std())\n",
    "    df1_200day = df1.tail(200)\n",
    "    df2_200day = df2.tail(200)\n",
    "    day200stdTicker1 = (df1_200day['Adj Close'].std())\n",
    "    day200stdTicker2 = (df2_200day['Adj Close'].std())\n",
    "    print(f'{ticker1}:{day20stdTicker1}')\n",
    "    print(f'{ticker2}:{day20stdTicker2}')\n",
    "    print(f'{ticker1}:{day200stdTicker1}')\n",
    "    print(f'{ticker2}:{day200stdTicker2}')"
   ]
  },
  {
   "cell_type": "code",
   "execution_count": 24,
   "metadata": {},
   "outputs": [
    {
     "name": "stdout",
     "output_type": "stream",
     "text": [
      "GOOG:18.45093074077993\n",
      "AAPL:6.260732656422809\n",
      "GOOG:63.98236892269351\n",
      "AAPL:24.936763255928877\n"
     ]
    }
   ],
   "source": [
    "similarCompanies('GOOG', 'AAPL')"
   ]
  },
  {
   "cell_type": "code",
   "execution_count": 25,
   "metadata": {},
   "outputs": [],
   "source": [
    "def highVol_RSI(t1,t2,t3):\n",
    "    '''Takes three tickers as an input and returns the volatilities of all \n",
    "    stocks and returns the stats of all, but also gives the advice of the better\n",
    "    option according to relative strength index, mean reversion and volatility.\n",
    "    If the stock is extremely volatile in a short amount of time and has a low\n",
    "    RSI or is below the moving average => that will be the ideal pick'''\n",
    "    #My Picks: GDXJ, GDX, TSLA, AUY, VYM, USD, SLV, SLVP, SIL\n",
    "    #COMMS: XLC, FCOM, IXP\n",
    "    #CONSUMER CYCLICAL: RCD, FDIS, XLY\n",
    "    #CONSUMER DEFENSIVE: FSTA, VDC, RHS\n",
    "    #EQUITY ENERGY: VDE, FENY, RYE\n",
    "    #FINANCIAL: FNCL, RYF, VFH\n",
    "    #HEALTH: FHLC, RYH, XLV\n",
    "    #INDUSTRIALS: FIDU, RGI, VIS\n",
    "    #INFRASTGRUCTURE: PAVE, TOLZ, GII\n",
    "    #MISCELLANEOUS: XT, FIW, ICLN\n",
    "    #NAT_RES: FMAT, RTM, VAW\n",
    "    #REAL_ESTATE: USRT, FREL, BBRE\n",
    "    #TECH: RYT, FTEC, XSW\n",
    "    #UTILITIES: FUTY, VPU, RYU\n",
    "    #would like to use this on a well established volatile ETF or stock like TSLA\n",
    "    start = dt.datetime(2016,1,1)\n",
    "    end = dt.datetime.now()\n",
    "    #data collection into two data frames\n",
    "    df1 = web.DataReader(t1,'yahoo',start,end)\n",
    "    df2 = web.DataReader(t2,'yahoo',start,end)\n",
    "    df3 = web.DataReader(t3,'yahoo',start,end)\n",
    "    #volatility for first ticker\n",
    "    df1_30day = df1.tail(30)\n",
    "    df1_90day = df1.tail(90)\n",
    "    df1_year = df1.tail(252)\n",
    "    df1_sigma30day = 100*(df1_30day['Adj Close'].std())\n",
    "    df1_sigma90day = 100*(df1_90day['Adj Close'].std())\n",
    "    df1_sigmaYear = 100*(df1_year['Adj Close'].std())\n",
    "    print(f'{t1} volatility in the past 30 days: {df1_sigma30day}')\n",
    "    print(f'{t1} volatility in the past 90 days: {df1_sigma90day}')\n",
    "    print(f'{t1} volatility in the past year: {df1_sigmaYear}')\n",
    "    #volatility for second ticker\n",
    "    df2_30day = df2.tail(30)\n",
    "    df2_90day = df2.tail(90)\n",
    "    df2_year = df2.tail(252)\n",
    "    df2_sigma30day = 100*(df2_30day['Adj Close'].std())\n",
    "    df2_sigma90day = 100*(df2_90day['Adj Close'].std())\n",
    "    df2_sigmaYear = 100*(df2_year['Adj Close'].std())\n",
    "    print(f'{t2} volatility in the past 30 days: {df2_sigma30day}')\n",
    "    print(f'{t2} volatility in the past 90 days: {df2_sigma90day}')\n",
    "    print(f'{t2} volatility in the past year: {df2_sigmaYear}')\n",
    "    #volatility for third ticker\n",
    "    df3_30day = df3.tail(30)\n",
    "    df3_90day = df3.tail(90)\n",
    "    df3_year = df3.tail(252)\n",
    "    df3_sigma30day = 100*(df3_30day['Adj Close'].std())\n",
    "    df3_sigma90day = 100*(df3_90day['Adj Close'].std())\n",
    "    df3_sigmaYear = 100*(df3_year['Adj Close'].std())\n",
    "    print(f'{t3} volatility in the past 30 days: {df3_sigma30day}')\n",
    "    print(f'{t3} volatility in the past 90 days: {df3_sigma90day}')\n",
    "    print(f'{t3} volatility in the past year: {df3_sigmaYear}')\n",
    "    #recent close of ticker 1,2,& 3\n",
    "    recentClose1 = df1.tail(1)\n",
    "    recentClose2 = df2.tail(1)\n",
    "    recentClose3 = df3.tail(1)\n",
    "    #recent Adj close of 1 and 2 \n",
    "    c1 = (recentClose1['Adj Close'].mean())\n",
    "    c2 = (recentClose2['Adj Close'].mean())\n",
    "    c3 = (recentClose3['Adj Close'].mean())\n",
    "    #day 14 stats of all tickers\n",
    "    day14prices1 = df1.tail(14)\n",
    "    day14prices2 = df2.tail(14)\n",
    "    day14prices3 = df3.tail(14)\n",
    "    #lowest and highest Adj Closes of the last 14 trading sessions\n",
    "    L14_t1 = (day14prices1['Low'].min())\n",
    "    H14_t1 = (day14prices1['High'].max())\n",
    "    L14_t2 = (day14prices2['Low'].min())\n",
    "    H14_t2 = (day14prices2['High'].max())\n",
    "    L14_t3 = (day14prices3['Low'].min())\n",
    "    H14_t3 = (day14prices3['High'].max())\n",
    "    #K formula for all tickers\n",
    "    #Shows the RSI for all stocks \n",
    "    #will see if any are oversold of it is below 30\n",
    "    K1 = 100*((c1-L14_t1)/(H14_t1-L14_t1))\n",
    "    K2 = 100*((c2-L14_t2)/(H14_t2-L14_t2))\n",
    "    K3 = 100*((c3-L14_t3)/(H14_t3-L14_t3))\n",
    "    if K1 <= 30 or K2 <= 30 or K3 <= 30:\n",
    "        print(f'BUY: {t1} is {K1} with a 30 day sigma of {df1_sigma30day} \\nand {t2} is {K2} with a 30 day sigma of {df2_sigma30day} \\nand {t3} is {K3} with a 30 day sigma of {df3_sigma30day}')\n",
    "    else:\n",
    "        print(f'{t1} is {K1} with a 30 day sigma of {df1_sigma30day} \\nand {t2} is {K2} with a 30 day sigma of {df2_sigma30day} \\nand {t3} is {K3} with a 30 day sigma of {df3_sigma30day}')"
   ]
  },
  {
   "cell_type": "code",
   "execution_count": 26,
   "metadata": {
    "jupyter": {
     "outputs_hidden": true
    }
   },
   "outputs": [
    {
     "name": "stdout",
     "output_type": "stream",
     "text": [
      "LTC-USD volatility in the past 30 days: 466.44558865042853\n",
      "LTC-USD volatility in the past 90 days: 1455.8667628113162\n",
      "LTC-USD volatility in the past year: 1459.9656077247898\n",
      "FREL volatility in the past 30 days: 347.20692642769416\n",
      "FREL volatility in the past 90 days: 329.939895918609\n",
      "FREL volatility in the past year: 210.6060510946438\n",
      "BBRE volatility in the past 30 days: 1177.889039970627\n",
      "BBRE volatility in the past 90 days: 1156.850920270542\n",
      "BBRE volatility in the past year: 738.8160457561659\n",
      "LTC-USD is 88.44714465412643 with a 30 day sigma of 466.44558865042853 \n",
      "and FREL is 84.9810026565096 with a 30 day sigma of 347.20692642769416 \n",
      "and BBRE is 86.7238988717418 with a 30 day sigma of 1177.889039970627\n"
     ]
    }
   ],
   "source": [
    "highVol_RSI('LTC-USD', 'FREL', 'BBRE')"
   ]
  },
  {
   "cell_type": "code",
   "execution_count": 27,
   "metadata": {
    "jupyter": {
     "outputs_hidden": true,
     "source_hidden": true
    }
   },
   "outputs": [
    {
     "name": "stdout",
     "output_type": "stream",
     "text": [
      "GOOG volatility in the past 30 days: 10619.893022542592\n",
      "GOOG volatility in the past 90 days: 13146.796611945996\n",
      "GOOG volatility in the past year: 11899.479850816888\n",
      "LTC volatility in the past 30 days: 822.0483706198014\n",
      "LTC volatility in the past 90 days: 704.6062606463751\n",
      "LTC volatility in the past year: 503.585625761797\n",
      "VKTX volatility in the past 30 days: 84.68920071083504\n",
      "VKTX volatility in the past 90 days: 133.52089105319104\n",
      "VKTX volatility in the past year: 116.08943736563928\n",
      "GOOG is 86.21634773854379 with a 30 day sigma of 10619.893022542592 \n",
      "and LTC is 82.52891607584205 with a 30 day sigma of 822.0483706198014 \n",
      "and VKTX is 70.68936678017556 with a 30 day sigma of 84.68920071083504\n"
     ]
    }
   ],
   "source": [
    "highVol_RSI('GOOG','LTC','VKTX')"
   ]
  },
  {
   "cell_type": "code",
   "execution_count": 28,
   "metadata": {
    "jupyter": {
     "outputs_hidden": true,
     "source_hidden": true
    }
   },
   "outputs": [
    {
     "name": "stdout",
     "output_type": "stream",
     "text": [
      "SLV volatility in the past 30 days: 168.49170154257666\n",
      "SLV volatility in the past 90 days: 153.37403802095108\n",
      "SLV volatility in the past year: 136.12242743336282\n",
      "SIL volatility in the past 30 days: 326.84704175454107\n",
      "SIL volatility in the past 90 days: 347.33728217495485\n",
      "SIL volatility in the past year: 313.0501558313599\n",
      "SLVP volatility in the past 30 days: 121.59958373171067\n",
      "SLVP volatility in the past 90 days: 125.50353987026928\n",
      "SLVP volatility in the past year: 107.55321661314699\n",
      "SLV is 89.96866028472115 with a 30 day sigma of 168.49170154257666 \n",
      "and SIL is 71.55280465573183 with a 30 day sigma of 326.84704175454107 \n",
      "and SLVP is 66.23447134628061 with a 30 day sigma of 121.59958373171067\n"
     ]
    }
   ],
   "source": [
    "highVol_RSI('SLV', 'SIL', 'SLVP')"
   ]
  },
  {
   "cell_type": "code",
   "execution_count": 6,
   "metadata": {},
   "outputs": [],
   "source": [
    "def historicPortReturnYear(t1,w1,t2,w2,t3,w3,t4,w4,t5,w5):\n",
    "    '''Inputs stock, then wieght...repeats 4 more times\n",
    "    Returns the historical protfolio return'''\n",
    "    #select 10 stocks. returns historic return\n",
    "    start = dt.datetime(2016,1,1)\n",
    "    end = dt.datetime.now()\n",
    "    #All the dataframes\n",
    "    df1 = web.DataReader(t1, 'yahoo', start, end)\n",
    "    df2 = web.DataReader(t2, 'yahoo', start, end)\n",
    "    df3 = web.DataReader(t3, 'yahoo', start, end)\n",
    "    df4 = web.DataReader(t4, 'yahoo', start, end)\n",
    "    df5 = web.DataReader(t5, 'yahoo', start, end)\n",
    "    #Year returns of the first stock\n",
    "    df1historyYear = df1.tail(252)\n",
    "    df1recent = df1.tail(1)\n",
    "    df1recentAdjClose = (df1recent['Adj Close'].mean())\n",
    "    df1initial = df1historyYear.head(1)\n",
    "    df1initialAdjClose = (df1initial['Adj Close'].mean())\n",
    "    t1yearReturns = (100*(df1recentAdjClose - df1initialAdjClose)/df1initialAdjClose)\n",
    "    print(f'The yearly historical return of {t1} is {t1yearReturns}')\n",
    "    #Year returns of the second stock\n",
    "    df2historyYear = df2.tail(252)\n",
    "    df2recent = df2.tail(1)\n",
    "    df2recentAdjClose = (df2recent['Adj Close'].mean())\n",
    "    df2initial = df2historyYear.head(1)\n",
    "    df2initialAdjClose = (df2initial['Adj Close'].mean())\n",
    "    t2yearReturns = (100*(df2recentAdjClose - df2initialAdjClose)/df2initialAdjClose)\n",
    "    print(f'The yearly historical return of {t2} is {t2yearReturns}')\n",
    "    #Year returns of the thrid stock\n",
    "    df3historyYear = df3.tail(252)\n",
    "    df3recent = df3.tail(1)\n",
    "    df3recentAdjClose = (df3recent['Adj Close'].mean())\n",
    "    df3initial = df3historyYear.head(1)\n",
    "    df3initialAdjClose = (df3initial['Adj Close'].mean())\n",
    "    t3yearReturns = (100*(df3recentAdjClose - df3initialAdjClose)/df3initialAdjClose)\n",
    "    print(f'The yearly historical return of {t3} is {t3yearReturns}')\n",
    "    #Year return of the fourth stock\n",
    "    df4historyYear = df4.tail(252)\n",
    "    df4recent = df4.tail(1)\n",
    "    df4recentAdjClose = (df4recent['Adj Close'].mean())\n",
    "    df4initial = df4historyYear.head(1)\n",
    "    df4initialAdjClose = (df4initial['Adj Close'].mean())\n",
    "    t4yearReturns = (100*(df4recentAdjClose - df4initialAdjClose)/df4initialAdjClose)\n",
    "    print(f'The yearly historical return of {t4} is {t4yearReturns}')\n",
    "    #Year return of the fifth stock\n",
    "    df5historyYear = df5.tail(252)\n",
    "    df5recent = df5.tail(1)\n",
    "    df5recentAdjClose = (df5recent['Adj Close'].mean())\n",
    "    df5initial = df5historyYear.head(1)\n",
    "    df5initialAdjClose = (df5initial['Adj Close'].mean())\n",
    "    t5yearReturns = (100*(df5recentAdjClose - df5initialAdjClose)/df5initialAdjClose)\n",
    "    print(f'The yearly historical return of {t5} is {t5yearReturns}')\n",
    "    '''w1 = input(f'What is the weight of {t1}(0-1): ')\n",
    "    w2 = input(f'What is the weight of {t2}(0-1): ')\n",
    "    w3 = input(f'What is the weight of {t3}(0-1): ')\n",
    "    w4 = input(f'What is the weight of {t4}(0-1): ')\n",
    "    w5 = input(f'What is the weight of {t5}(0-1): ')'''\n",
    "    wholeReturn = 100*(((t1yearReturns*w1)+(t2yearReturns*w2)+(t3yearReturns*w3)+(t4yearReturns*w4)+(t5yearReturns*w5)))\n",
    "    print(f'The yearly historic return of the portfolio is {wholeReturn}')"
   ]
  },
  {
   "cell_type": "code",
   "execution_count": 7,
   "metadata": {},
   "outputs": [
    {
     "name": "stdout",
     "output_type": "stream",
     "text": [
      "The yearly historical return of OIH is -35.608710379025396\n",
      "The yearly historical return of AUY is 73.66663486087859\n",
      "The yearly historical return of GDXJ is 42.77792371695667\n",
      "The yearly historical return of COST is 31.062678842223686\n",
      "The yearly historical return of CTST is -87.24016702566693\n",
      "The yearly historic return of the portfolio is 493.16720030733234\n"
     ]
    }
   ],
   "source": [
    "historicPortReturnYear('OIH',.2,'AUY',.2,'GDXJ',.2,'COST',.2, 'CTST',.2)"
   ]
  },
  {
   "cell_type": "code",
   "execution_count": 4,
   "metadata": {},
   "outputs": [],
   "source": [
    "def gaussian(ticker):\n",
    "    '''Input your ticker and mean and standard deviation is \n",
    "    collected and a gaussian distribution is outputted.'''\n",
    "    #mean and standard deviation\n",
    "    start = dt.datetime(2016,1,1)\n",
    "    end = dt.datetime.now()\n",
    "    df = web.DataReader(ticker, 'yahoo', start, end)\n",
    "    dfYear = df.tail(252)\n",
    "    #yearly moving average for the stock\n",
    "    mu = (dfYear['Adj Close'].mean())\n",
    "    sigma = (dfYear['Adj Close'].std())\n",
    "    s = np.random.normal(mu,sigma,1000)\n",
    "    count, bins, ignored = plt.hist(s, 30, density=True)\n",
    "    plt.plot(bins, 1/(sigma * np.sqrt(2 * np.pi)) * np.exp( - (bins - mu)**2 / (2 * sigma**2) ), linewidth=2, color='r')\n",
    "    plt.show()"
   ]
  },
  {
   "cell_type": "code",
   "execution_count": 5,
   "metadata": {},
   "outputs": [
    {
     "data": {
      "image/png": "[encoded data removed]",
      "text/plain": [
       "<Figure size 432x288 with 1 Axes>"
      ]
     },
     "metadata": {
      "needs_background": "light"
     },
     "output_type": "display_data"
    }
   ],
   "source": [
    "gaussian('AUY')"
   ]
  },
  {
   "cell_type": "code",
   "execution_count": 44,
   "metadata": {},
   "outputs": [],
   "source": [
    "#https://math.stackexchange.com/questions/2330873/geometric-laplace-distribution\n",
    "#with 𝜎 scale factor, 𝑑𝑡 time step, 𝑟 interest rate and 𝑓𝐿 a RNG with Laplace distribution (from numpy.random in python). In code this gives me what I expect:\n",
    "#1.75 fed funds rate right now (since October 31, 2019)\n",
    "def laplaceMA(ticker):\n",
    "    '''Input ticker and receives loc and disp variables. These are the most recent \n",
    "    closing price or price and disp is standard deviation in this case. A laplace\n",
    "    distribution is outputted.'''\n",
    "    start =  dt.datetime(2016,1,1)\n",
    "    end = dt.datetime.now()\n",
    "    df = web.DataReader(ticker,'yahoo',start,end)\n",
    "    df_recent = df.tail(1)\n",
    "    #loc is the most recent close\n",
    "    loc = (df_recent['Adj Close'].mean())\n",
    "    #loc = location\n",
    "    #scale = disp = dispersion ... wasn't sure but I think this means standard deviation for stocks\n",
    "    dfYear = df.tail(252)\n",
    "    #disp is the standard deviation in the past year of the equity\n",
    "    #for this one we will try the MA\n",
    "    disp = (dfYear['Adj Close'].mean())\n",
    "    #let the yearly standard deviation equal dispersion(in this case standard deviation)\n",
    "    s = np.random.laplace(loc,disp,1000)\n",
    "    count, bins, ignored = plt.hist(s, 30, density=True)\n",
    "    x = np.arange(-8., 8., .01)\n",
    "    pdf = np.exp(-abs(x-loc)/disp)/(2.*disp)\n",
    "    plt.plot(x, pdf)"
   ]
  },
  {
   "cell_type": "code",
   "execution_count": 45,
   "metadata": {},
   "outputs": [
    {
     "data": {
      "image/png": "[encoded data removed]",
      "text/plain": [
       "<Figure size 432x288 with 1 Axes>"
      ]
     },
     "metadata": {
      "needs_background": "light"
     },
     "output_type": "display_data"
    }
   ],
   "source": [
    "laplaceMA('AUY')"
   ]
  },
  {
   "cell_type": "code",
   "execution_count": 46,
   "metadata": {},
   "outputs": [],
   "source": [
    "#https://math.stackexchange.com/questions/2330873/geometric-laplace-distribution\n",
    "#with 𝜎 scale factor, 𝑑𝑡 time step, 𝑟 interest rate and 𝑓𝐿 a RNG with Laplace distribution (from numpy.random in python). In code this gives me what I expect:\n",
    "#1.75 fed funds rate right now (since October 31, 2019)\n",
    "def laplaceReturns(ticker):\n",
    "    '''Input ticker and receives loc and disp variables. These are the most recent \n",
    "    closing price or price and disp is standard deviation in this case. A laplace\n",
    "    distribution is outputted.'''\n",
    "    start =  dt.datetime(2016,1,1)\n",
    "    end = dt.datetime.now()\n",
    "    df = web.DataReader(ticker,'yahoo',start,end)\n",
    "    df_recent = df.tail(1)\n",
    "    #loc is the most recent close\n",
    "    loc = (df_recent['Adj Close'].mean())\n",
    "    #loc = location\n",
    "    #scale = disp = dispersion ... wasn't sure but I think this means standard deviation for stocks\n",
    "    dfYear = df.tail(252)\n",
    "    #disp is the standard deviation in the past year of the equity\n",
    "    #for this one it will be returns \n",
    "    dfinitial = dfYear.head(1)\n",
    "    dfinitialAdjClose = (dfinitial['Adj Close'].mean())\n",
    "    disp = (100*(loc - dfinitialAdjClose)/dfinitialAdjClose)\n",
    "    #let the yearly standard deviation equal dispersion(in this case standard deviation)\n",
    "    s = np.random.laplace(loc,disp,1000)\n",
    "    count, bins, ignored = plt.hist(s, 30, density=True)\n",
    "    x = np.arange(-8., 8., .01)\n",
    "    pdf = np.exp(-abs(x-loc)/disp)/(2.*disp)\n",
    "    plt.plot(x, pdf)"
   ]
  },
  {
   "cell_type": "code",
   "execution_count": 47,
   "metadata": {},
   "outputs": [
    {
     "data": {
      "image/png": "[encoded data removed]",
      "text/plain": [
       "<Figure size 432x288 with 1 Axes>"
      ]
     },
     "metadata": {
      "needs_background": "light"
     },
     "output_type": "display_data"
    }
   ],
   "source": [
    "laplaceReturns('AUY')"
   ]
  },
  {
   "cell_type": "code",
   "execution_count": 1,
   "metadata": {},
   "outputs": [],
   "source": [
    "#https://math.stackexchange.com/questions/2330873/geometric-laplace-distribution\n",
    "#with 𝜎 scale factor, 𝑑𝑡 time step, 𝑟 interest rate and 𝑓𝐿 a RNG with Laplace distribution (from numpy.random in python). In code this gives me what I expect:\n",
    "#1.75 fed funds rate right now (since October 31, 2019)\n",
    "def laplaceVol(ticker):\n",
    "    '''Input ticker and receives loc and disp variables. These are the most recent \n",
    "    closing price or price and disp is standard deviation in this case. A laplace\n",
    "    distribution is outputted.'''\n",
    "    start =  dt.datetime(2016,1,1)\n",
    "    end = dt.datetime.now()\n",
    "    df = web.DataReader(ticker,'yahoo',start,end)\n",
    "    df_recent = df.tail(1)\n",
    "    #loc is the most recent close\n",
    "    loc = (df_recent['Adj Close'].mean())\n",
    "    #loc = location\n",
    "    #scale = disp = dispersion ... wasn't sure but I think this means standard deviation for stocks\n",
    "    dfYear = df.tail(252)\n",
    "    #disp is the standard deviation in the past year of the equity\n",
    "    disp = (dfYear['Adj Close'].std())\n",
    "    #let the yearly standard deviation equal dispersion(in this case standard deviation)\n",
    "    s = np.random.laplace(loc,disp,1000)\n",
    "    count, bins, ignored = plt.hist(s, 30, density=True)\n",
    "    x = np.arange(-8., 8., .01)\n",
    "    pdf = np.exp(-abs(x-loc)/disp)/(2.*disp)\n",
    "    plt.plot(x, pdf)\n",
    "    #plot gaussian for comparison\n",
    "    '''\n",
    "    g = (1/(disp * np.sqrt(2 * np.pi)) * np.exp(-(x - loc)**2 / (2 * disp**2)))\n",
    "    plt.plot(x,g)\n",
    "    '''"
   ]
  },
  {
   "cell_type": "code",
   "execution_count": 6,
   "metadata": {},
   "outputs": [
    {
     "data": {
      "image/png": "[encoded data removed]",
      "text/plain": [
       "<Figure size 432x288 with 1 Axes>"
      ]
     },
     "metadata": {
      "needs_background": "light"
     },
     "output_type": "display_data"
    }
   ],
   "source": [
    "laplaceVol('AUY')"
   ]
  }
 ],
 "metadata": {
  "kernelspec": {
   "display_name": "Python 3",
   "language": "python",
   "name": "python3"
  },
  "language_info": {
   "codemirror_mode": {
    "name": "ipython",
    "version": 3
   },
   "file_extension": ".py",
   "mimetype": "text/x-python",
   "name": "python",
   "nbconvert_exporter": "python",
   "pygments_lexer": "ipython3",
   "version": "3.7.4"
  }
 },
 "nbformat": 4,
 "nbformat_minor": 4
}
