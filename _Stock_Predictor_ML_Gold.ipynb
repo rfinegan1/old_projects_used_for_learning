{
 "cells": [
  {
   "cell_type": "code",
   "execution_count": 1,
   "metadata": {},
   "outputs": [],
   "source": [
    "import numpy as np\n",
    "import datetime as dt\n",
    "import pandas as pd\n",
    "import pandas_datareader.data as web\n",
    "import matplotlib.pyplot as plt\n",
    "import math\n",
    "import warnings\n",
    "warnings.filterwarnings(\"ignore\")"
   ]
  },
  {
   "cell_type": "code",
   "execution_count": 3,
   "metadata": {},
   "outputs": [
    {
     "data": {
      "text/html": [
       "<div>\n",
       "<style scoped>\n",
       "    .dataframe tbody tr th:only-of-type {\n",
       "        vertical-align: middle;\n",
       "    }\n",
       "\n",
       "    .dataframe tbody tr th {\n",
       "        vertical-align: top;\n",
       "    }\n",
       "\n",
       "    .dataframe thead th {\n",
       "        text-align: right;\n",
       "    }\n",
       "</style>\n",
       "<table border=\"1\" class=\"dataframe\">\n",
       "  <thead>\n",
       "    <tr style=\"text-align: right;\">\n",
       "      <th></th>\n",
       "      <th>GC=F Adj Close</th>\n",
       "    </tr>\n",
       "    <tr>\n",
       "      <th>Date</th>\n",
       "      <th></th>\n",
       "    </tr>\n",
       "  </thead>\n",
       "  <tbody>\n",
       "    <tr>\n",
       "      <td>2015-01-02</td>\n",
       "      <td>1186.000000</td>\n",
       "    </tr>\n",
       "    <tr>\n",
       "      <td>2015-01-05</td>\n",
       "      <td>1203.900024</td>\n",
       "    </tr>\n",
       "    <tr>\n",
       "      <td>2015-01-06</td>\n",
       "      <td>1219.300049</td>\n",
       "    </tr>\n",
       "    <tr>\n",
       "      <td>2015-01-07</td>\n",
       "      <td>1210.599976</td>\n",
       "    </tr>\n",
       "    <tr>\n",
       "      <td>2015-01-08</td>\n",
       "      <td>1208.400024</td>\n",
       "    </tr>\n",
       "    <tr>\n",
       "      <td>...</td>\n",
       "      <td>...</td>\n",
       "    </tr>\n",
       "    <tr>\n",
       "      <td>2020-05-19</td>\n",
       "      <td>1749.000000</td>\n",
       "    </tr>\n",
       "    <tr>\n",
       "      <td>2020-05-20</td>\n",
       "      <td>1749.699951</td>\n",
       "    </tr>\n",
       "    <tr>\n",
       "      <td>2020-05-21</td>\n",
       "      <td>1725.300049</td>\n",
       "    </tr>\n",
       "    <tr>\n",
       "      <td>2020-05-22</td>\n",
       "      <td>1734.699951</td>\n",
       "    </tr>\n",
       "    <tr>\n",
       "      <td>2020-05-24</td>\n",
       "      <td>1730.099976</td>\n",
       "    </tr>\n",
       "  </tbody>\n",
       "</table>\n",
       "<p>1363 rows × 1 columns</p>\n",
       "</div>"
      ],
      "text/plain": [
       "            GC=F Adj Close\n",
       "Date                      \n",
       "2015-01-02     1186.000000\n",
       "2015-01-05     1203.900024\n",
       "2015-01-06     1219.300049\n",
       "2015-01-07     1210.599976\n",
       "2015-01-08     1208.400024\n",
       "...                    ...\n",
       "2020-05-19     1749.000000\n",
       "2020-05-20     1749.699951\n",
       "2020-05-21     1725.300049\n",
       "2020-05-22     1734.699951\n",
       "2020-05-24     1730.099976\n",
       "\n",
       "[1363 rows x 1 columns]"
      ]
     },
     "execution_count": 3,
     "metadata": {},
     "output_type": "execute_result"
    }
   ],
   "source": [
    "ticker1 = 'GC=F'\n",
    "start = '2015-01-01'\n",
    "end = '2020-05-10'\n",
    "#end = dt.datetime.now()\n",
    "df1 = web.DataReader(ticker1,'yahoo',start,end)\n",
    "df1[[f'{ticker1} Adj Close']] = df1[['Adj Close']]\n",
    "df1 = df1[[f'{ticker1} Adj Close']]\n",
    "df1"
   ]
  },
  {
   "cell_type": "code",
   "execution_count": 3,
   "metadata": {},
   "outputs": [],
   "source": [
    "#Small-Cap Gold Miners ('AUY','HMY','AU','GOLD','KGC')\n",
    "ticker = 'GOLD'\n",
    "start = '2015-01-01'\n",
    "end = '2020-05-10'\n",
    "#end = dt.datetime.now()\n",
    "df = web.DataReader(ticker,'yahoo',start,end)\n",
    "df = df[['Open','High','Low','Close','Adj Close','Volume']]"
   ]
  },
  {
   "cell_type": "code",
   "execution_count": 4,
   "metadata": {},
   "outputs": [],
   "source": [
    "def RSI(ticker):\n",
    "    '''Coolest function... Can see the RSI values fluctuate (usually) from 20/30 to 70/80/90.\n",
    "    Stocks that fluctuate and have good credit (or part of big indices) would be good picks \n",
    "    for trading strategy... below 50 is a buy indicator'''\n",
    "    #end = dt.datetime.now()\n",
    "    end = '2020-05-10'\n",
    "    start = '2015-01-01'\n",
    "    df = web.DataReader(ticker,'yahoo',start,end)\n",
    "    df = df[['Adj Close']]\n",
    "    # create a column called daily return\n",
    "    df['Daily Return'] = df['Adj Close'].pct_change()*100\n",
    "    # making a dataframe only for the percent return of each day\n",
    "    df['Up/Down'] = np.sign(df['Daily Return'])\n",
    "    #drop the nan values\n",
    "    df.dropna(inplace=True)\n",
    "    df['Up']=(df['Up/Down']>0).astype(int)\n",
    "    df['Down']=(df['Up/Down']<0).astype(int)\n",
    "    up = df['Up']\n",
    "    down = df['Down']\n",
    "    gain = pd.Series(up).rolling(window=14).sum()\n",
    "    loss = pd.Series(down).rolling(window=14).sum()\n",
    "    df['Gain'] = gain/14\n",
    "    df['Loss'] = loss/14\n",
    "    df['RS'] = df['Gain']/df['Loss']\n",
    "    df['RSI'] = 100 - (100/(1+df['RS']))\n",
    "    df.dropna(inplace=True)\n",
    "    df = df[['RSI']]\n",
    "    return(df)"
   ]
  },
  {
   "cell_type": "code",
   "execution_count": 5,
   "metadata": {},
   "outputs": [],
   "source": [
    "df3 = RSI(ticker)"
   ]
  },
  {
   "cell_type": "code",
   "execution_count": 6,
   "metadata": {},
   "outputs": [],
   "source": [
    "def EPS(symbol):\n",
    "    from yahoo_earnings_calendar import YahooEarningsCalendar\n",
    "    yec = YahooEarningsCalendar()\n",
    "    ticker = (yec.get_earnings_of(symbol))\n",
    "    data = pd.DataFrame(ticker)\n",
    "    df = data.dropna()\n",
    "    df['Date'] = pd.to_datetime(df['startdatetime']).dt.date\n",
    "    df = df[['Date','ticker','epsestimate','epsactual','epssurprisepct']]\n",
    "    df['Date'] = df['Date'].apply(pd.to_datetime)\n",
    "    df = df.drop_duplicates(subset='Date')\n",
    "    df = df.head(43)\n",
    "    df = df.set_index('Date')\n",
    "    df[['epssurprisepct']]\n",
    "    data1 = web.DataReader(symbol,'yahoo',start,end)\n",
    "    df1 = data1[['Adj Close']]\n",
    "    df1 = df1.sort_index(ascending=False)\n",
    "    df_combined = pd.concat([df,df1],axis=1)\n",
    "    df_combined = df_combined.fillna(method='ffill')\n",
    "    df_combined.dropna(inplace=True)\n",
    "    df_combined=df_combined[['epssurprisepct']]\n",
    "    return(df_combined)"
   ]
  },
  {
   "cell_type": "code",
   "execution_count": 7,
   "metadata": {},
   "outputs": [
    {
     "data": {
      "text/html": [
       "<div>\n",
       "<style scoped>\n",
       "    .dataframe tbody tr th:only-of-type {\n",
       "        vertical-align: middle;\n",
       "    }\n",
       "\n",
       "    .dataframe tbody tr th {\n",
       "        vertical-align: top;\n",
       "    }\n",
       "\n",
       "    .dataframe thead th {\n",
       "        text-align: right;\n",
       "    }\n",
       "</style>\n",
       "<table border=\"1\" class=\"dataframe\">\n",
       "  <thead>\n",
       "    <tr style=\"text-align: right;\">\n",
       "      <th></th>\n",
       "      <th>epssurprisepct</th>\n",
       "    </tr>\n",
       "    <tr>\n",
       "      <th>Date</th>\n",
       "      <th></th>\n",
       "    </tr>\n",
       "  </thead>\n",
       "  <tbody>\n",
       "    <tr>\n",
       "      <td>2015-01-02</td>\n",
       "      <td>15.15</td>\n",
       "    </tr>\n",
       "    <tr>\n",
       "      <td>2015-01-05</td>\n",
       "      <td>15.15</td>\n",
       "    </tr>\n",
       "    <tr>\n",
       "      <td>2015-01-06</td>\n",
       "      <td>15.15</td>\n",
       "    </tr>\n",
       "    <tr>\n",
       "      <td>2015-01-07</td>\n",
       "      <td>15.15</td>\n",
       "    </tr>\n",
       "    <tr>\n",
       "      <td>2015-01-08</td>\n",
       "      <td>15.15</td>\n",
       "    </tr>\n",
       "    <tr>\n",
       "      <td>...</td>\n",
       "      <td>...</td>\n",
       "    </tr>\n",
       "    <tr>\n",
       "      <td>2020-05-18</td>\n",
       "      <td>0.63</td>\n",
       "    </tr>\n",
       "    <tr>\n",
       "      <td>2020-05-19</td>\n",
       "      <td>0.63</td>\n",
       "    </tr>\n",
       "    <tr>\n",
       "      <td>2020-05-20</td>\n",
       "      <td>0.63</td>\n",
       "    </tr>\n",
       "    <tr>\n",
       "      <td>2020-05-21</td>\n",
       "      <td>0.63</td>\n",
       "    </tr>\n",
       "    <tr>\n",
       "      <td>2020-05-22</td>\n",
       "      <td>0.63</td>\n",
       "    </tr>\n",
       "  </tbody>\n",
       "</table>\n",
       "<p>1357 rows × 1 columns</p>\n",
       "</div>"
      ],
      "text/plain": [
       "            epssurprisepct\n",
       "Date                      \n",
       "2015-01-02           15.15\n",
       "2015-01-05           15.15\n",
       "2015-01-06           15.15\n",
       "2015-01-07           15.15\n",
       "2015-01-08           15.15\n",
       "...                    ...\n",
       "2020-05-18            0.63\n",
       "2020-05-19            0.63\n",
       "2020-05-20            0.63\n",
       "2020-05-21            0.63\n",
       "2020-05-22            0.63\n",
       "\n",
       "[1357 rows x 1 columns]"
      ]
     },
     "execution_count": 7,
     "metadata": {},
     "output_type": "execute_result"
    }
   ],
   "source": [
    "df2 = EPS(ticker)\n",
    "df2"
   ]
  },
  {
   "cell_type": "code",
   "execution_count": 8,
   "metadata": {},
   "outputs": [
    {
     "data": {
      "text/html": [
       "<div>\n",
       "<style scoped>\n",
       "    .dataframe tbody tr th:only-of-type {\n",
       "        vertical-align: middle;\n",
       "    }\n",
       "\n",
       "    .dataframe tbody tr th {\n",
       "        vertical-align: top;\n",
       "    }\n",
       "\n",
       "    .dataframe thead th {\n",
       "        text-align: right;\n",
       "    }\n",
       "</style>\n",
       "<table border=\"1\" class=\"dataframe\">\n",
       "  <thead>\n",
       "    <tr style=\"text-align: right;\">\n",
       "      <th></th>\n",
       "      <th>Date</th>\n",
       "      <th>Open</th>\n",
       "      <th>High</th>\n",
       "      <th>Low</th>\n",
       "      <th>Close</th>\n",
       "      <th>Adj Close</th>\n",
       "      <th>Volume</th>\n",
       "      <th>GC=F Adj Close</th>\n",
       "      <th>epssurprisepct</th>\n",
       "      <th>RSI</th>\n",
       "    </tr>\n",
       "  </thead>\n",
       "  <tbody>\n",
       "    <tr>\n",
       "      <td>0</td>\n",
       "      <td>2015-01-23</td>\n",
       "      <td>12.660000</td>\n",
       "      <td>12.790000</td>\n",
       "      <td>12.340000</td>\n",
       "      <td>12.430000</td>\n",
       "      <td>6.720088</td>\n",
       "      <td>19713500.0</td>\n",
       "      <td>1292.599976</td>\n",
       "      <td>15.15</td>\n",
       "      <td>57.142857</td>\n",
       "    </tr>\n",
       "    <tr>\n",
       "      <td>1</td>\n",
       "      <td>2015-01-26</td>\n",
       "      <td>12.100000</td>\n",
       "      <td>12.760000</td>\n",
       "      <td>12.000000</td>\n",
       "      <td>12.690000</td>\n",
       "      <td>6.860652</td>\n",
       "      <td>15653600.0</td>\n",
       "      <td>1279.400024</td>\n",
       "      <td>15.15</td>\n",
       "      <td>64.285714</td>\n",
       "    </tr>\n",
       "    <tr>\n",
       "      <td>2</td>\n",
       "      <td>2015-01-27</td>\n",
       "      <td>12.890000</td>\n",
       "      <td>13.250000</td>\n",
       "      <td>12.840000</td>\n",
       "      <td>13.110000</td>\n",
       "      <td>7.087718</td>\n",
       "      <td>23691300.0</td>\n",
       "      <td>1291.699951</td>\n",
       "      <td>15.15</td>\n",
       "      <td>64.285714</td>\n",
       "    </tr>\n",
       "    <tr>\n",
       "      <td>3</td>\n",
       "      <td>2015-01-28</td>\n",
       "      <td>12.920000</td>\n",
       "      <td>13.120000</td>\n",
       "      <td>12.490000</td>\n",
       "      <td>12.610000</td>\n",
       "      <td>6.817401</td>\n",
       "      <td>19198600.0</td>\n",
       "      <td>1285.900024</td>\n",
       "      <td>15.15</td>\n",
       "      <td>64.285714</td>\n",
       "    </tr>\n",
       "    <tr>\n",
       "      <td>4</td>\n",
       "      <td>2015-01-29</td>\n",
       "      <td>12.280000</td>\n",
       "      <td>12.430000</td>\n",
       "      <td>12.070000</td>\n",
       "      <td>12.290000</td>\n",
       "      <td>6.644399</td>\n",
       "      <td>18368200.0</td>\n",
       "      <td>1254.599976</td>\n",
       "      <td>15.15</td>\n",
       "      <td>64.285714</td>\n",
       "    </tr>\n",
       "    <tr>\n",
       "      <td>...</td>\n",
       "      <td>...</td>\n",
       "      <td>...</td>\n",
       "      <td>...</td>\n",
       "      <td>...</td>\n",
       "      <td>...</td>\n",
       "      <td>...</td>\n",
       "      <td>...</td>\n",
       "      <td>...</td>\n",
       "      <td>...</td>\n",
       "      <td>...</td>\n",
       "    </tr>\n",
       "    <tr>\n",
       "      <td>1327</td>\n",
       "      <td>2020-05-18</td>\n",
       "      <td>28.080000</td>\n",
       "      <td>28.230000</td>\n",
       "      <td>26.930000</td>\n",
       "      <td>27.200001</td>\n",
       "      <td>27.200001</td>\n",
       "      <td>17293500.0</td>\n",
       "      <td>1736.500000</td>\n",
       "      <td>0.63</td>\n",
       "      <td>64.285714</td>\n",
       "    </tr>\n",
       "    <tr>\n",
       "      <td>1328</td>\n",
       "      <td>2020-05-19</td>\n",
       "      <td>27.520000</td>\n",
       "      <td>28.250000</td>\n",
       "      <td>27.410000</td>\n",
       "      <td>28.100000</td>\n",
       "      <td>28.100000</td>\n",
       "      <td>17810600.0</td>\n",
       "      <td>1749.000000</td>\n",
       "      <td>0.63</td>\n",
       "      <td>71.428571</td>\n",
       "    </tr>\n",
       "    <tr>\n",
       "      <td>1329</td>\n",
       "      <td>2020-05-20</td>\n",
       "      <td>28.290001</td>\n",
       "      <td>28.360001</td>\n",
       "      <td>27.219999</td>\n",
       "      <td>27.250000</td>\n",
       "      <td>27.250000</td>\n",
       "      <td>16291200.0</td>\n",
       "      <td>1749.699951</td>\n",
       "      <td>0.63</td>\n",
       "      <td>71.428571</td>\n",
       "    </tr>\n",
       "    <tr>\n",
       "      <td>1330</td>\n",
       "      <td>2020-05-21</td>\n",
       "      <td>26.959999</td>\n",
       "      <td>26.969999</td>\n",
       "      <td>25.610001</td>\n",
       "      <td>26.260000</td>\n",
       "      <td>26.260000</td>\n",
       "      <td>22018800.0</td>\n",
       "      <td>1725.300049</td>\n",
       "      <td>0.63</td>\n",
       "      <td>64.285714</td>\n",
       "    </tr>\n",
       "    <tr>\n",
       "      <td>1331</td>\n",
       "      <td>2020-05-22</td>\n",
       "      <td>26.600000</td>\n",
       "      <td>26.959999</td>\n",
       "      <td>26.230000</td>\n",
       "      <td>26.320000</td>\n",
       "      <td>26.320000</td>\n",
       "      <td>11264100.0</td>\n",
       "      <td>1734.699951</td>\n",
       "      <td>0.63</td>\n",
       "      <td>64.285714</td>\n",
       "    </tr>\n",
       "  </tbody>\n",
       "</table>\n",
       "<p>1332 rows × 10 columns</p>\n",
       "</div>"
      ],
      "text/plain": [
       "           Date       Open       High        Low      Close  Adj Close  \\\n",
       "0    2015-01-23  12.660000  12.790000  12.340000  12.430000   6.720088   \n",
       "1    2015-01-26  12.100000  12.760000  12.000000  12.690000   6.860652   \n",
       "2    2015-01-27  12.890000  13.250000  12.840000  13.110000   7.087718   \n",
       "3    2015-01-28  12.920000  13.120000  12.490000  12.610000   6.817401   \n",
       "4    2015-01-29  12.280000  12.430000  12.070000  12.290000   6.644399   \n",
       "...         ...        ...        ...        ...        ...        ...   \n",
       "1327 2020-05-18  28.080000  28.230000  26.930000  27.200001  27.200001   \n",
       "1328 2020-05-19  27.520000  28.250000  27.410000  28.100000  28.100000   \n",
       "1329 2020-05-20  28.290001  28.360001  27.219999  27.250000  27.250000   \n",
       "1330 2020-05-21  26.959999  26.969999  25.610001  26.260000  26.260000   \n",
       "1331 2020-05-22  26.600000  26.959999  26.230000  26.320000  26.320000   \n",
       "\n",
       "          Volume  GC=F Adj Close  epssurprisepct        RSI  \n",
       "0     19713500.0     1292.599976           15.15  57.142857  \n",
       "1     15653600.0     1279.400024           15.15  64.285714  \n",
       "2     23691300.0     1291.699951           15.15  64.285714  \n",
       "3     19198600.0     1285.900024           15.15  64.285714  \n",
       "4     18368200.0     1254.599976           15.15  64.285714  \n",
       "...          ...             ...             ...        ...  \n",
       "1327  17293500.0     1736.500000            0.63  64.285714  \n",
       "1328  17810600.0     1749.000000            0.63  71.428571  \n",
       "1329  16291200.0     1749.699951            0.63  71.428571  \n",
       "1330  22018800.0     1725.300049            0.63  64.285714  \n",
       "1331  11264100.0     1734.699951            0.63  64.285714  \n",
       "\n",
       "[1332 rows x 10 columns]"
      ]
     },
     "execution_count": 8,
     "metadata": {},
     "output_type": "execute_result"
    }
   ],
   "source": [
    "df = pd.concat([df,df1,df2,df3],axis=1)\n",
    "df = df[['Open','High','Low','Close','Adj Close','Volume',f'{ticker1} Adj Close','epssurprisepct','RSI']]\n",
    "df = df.dropna()\n",
    "df = df.reset_index()\n",
    "df"
   ]
  },
  {
   "cell_type": "code",
   "execution_count": 9,
   "metadata": {},
   "outputs": [],
   "source": [
    "X = df.drop(['Date','Close','Open'], axis=1, inplace=True)\n",
    "y = df[['Adj Close']]"
   ]
  },
  {
   "cell_type": "code",
   "execution_count": 10,
   "metadata": {},
   "outputs": [
    {
     "data": {
      "text/plain": [
       "matrix([[1.27900000e+01, 1.23400002e+01, 6.72008801e+00, ...,\n",
       "         1.29259998e+03, 1.51500000e+01, 5.71428571e+01],\n",
       "        [1.27600002e+01, 1.20000000e+01, 6.86065245e+00, ...,\n",
       "         1.27940002e+03, 1.51500000e+01, 6.42857143e+01],\n",
       "        [1.32500000e+01, 1.28400002e+01, 7.08771753e+00, ...,\n",
       "         1.29169995e+03, 1.51500000e+01, 6.42857143e+01],\n",
       "        ...,\n",
       "        [2.83600006e+01, 2.72199993e+01, 2.72500000e+01, ...,\n",
       "         1.74969995e+03, 6.30000000e-01, 7.14285714e+01],\n",
       "        [2.69699993e+01, 2.56100006e+01, 2.62600002e+01, ...,\n",
       "         1.72530005e+03, 6.30000000e-01, 6.42857143e+01],\n",
       "        [2.69599991e+01, 2.62299995e+01, 2.63199997e+01, ...,\n",
       "         1.73469995e+03, 6.30000000e-01, 6.42857143e+01]])"
      ]
     },
     "execution_count": 10,
     "metadata": {},
     "output_type": "execute_result"
    }
   ],
   "source": [
    "df = np.asmatrix(df)\n",
    "df"
   ]
  },
  {
   "cell_type": "code",
   "execution_count": 11,
   "metadata": {},
   "outputs": [],
   "source": [
    "from sklearn.model_selection import train_test_split\n",
    "# Split X and y into X_\n",
    "X_train, X_test, y_train, y_test = train_test_split(df, y, test_size=0.25,  random_state=0)"
   ]
  },
  {
   "cell_type": "code",
   "execution_count": 12,
   "metadata": {},
   "outputs": [
    {
     "data": {
      "text/plain": [
       "LinearRegression(copy_X=True, fit_intercept=True, n_jobs=None, normalize=False)"
      ]
     },
     "execution_count": 12,
     "metadata": {},
     "output_type": "execute_result"
    }
   ],
   "source": [
    "from sklearn.linear_model import LinearRegression\n",
    "regression_model = LinearRegression()\n",
    "regression_model.fit(X_train, y_train)"
   ]
  },
  {
   "cell_type": "code",
   "execution_count": 13,
   "metadata": {},
   "outputs": [],
   "source": [
    "intercept = regression_model.intercept_[0]"
   ]
  },
  {
   "cell_type": "code",
   "execution_count": 14,
   "metadata": {},
   "outputs": [
    {
     "data": {
      "text/plain": [
       "1.0"
      ]
     },
     "execution_count": 14,
     "metadata": {},
     "output_type": "execute_result"
    }
   ],
   "source": [
    "regression_model.score(X_test, y_test)"
   ]
  },
  {
   "cell_type": "code",
   "execution_count": 15,
   "metadata": {},
   "outputs": [
    {
     "data": {
      "text/plain": [
       "1.871824936679949e-24"
      ]
     },
     "execution_count": 15,
     "metadata": {},
     "output_type": "execute_result"
    }
   ],
   "source": [
    "from sklearn.metrics import mean_squared_error\n",
    "y_predict = regression_model.predict(X_test)\n",
    "regression_model_mse = mean_squared_error(y_predict, y_test)\n",
    "regression_model_mse"
   ]
  },
  {
   "cell_type": "code",
   "execution_count": 16,
   "metadata": {},
   "outputs": [
    {
     "data": {
      "text/plain": [
       "1.3681465333362317e-12"
      ]
     },
     "execution_count": 16,
     "metadata": {},
     "output_type": "execute_result"
    }
   ],
   "source": [
    "math.sqrt(regression_model_mse)"
   ]
  },
  {
   "cell_type": "code",
   "execution_count": 17,
   "metadata": {},
   "outputs": [
    {
     "name": "stdout",
     "output_type": "stream",
     "text": [
      "1. GOLD will close at $26.23 next time window.\n",
      "2. The projected daily change is -0.3419458780034378%.\n",
      "3. GOLD will be down from the previous closing of 26.31999969482422.\n"
     ]
    }
   ],
   "source": [
    "# input the latest Open, High, Low, Close, Volume\n",
    "# predicts the next day price\n",
    "data2 = web.DataReader(ticker1,'yahoo',start,dt.datetime.now())\n",
    "data1 = web.DataReader(ticker,'yahoo',start,dt.datetime.now())\n",
    "eps = df2['epssurprisepct'].iloc[-1]\n",
    "High = data1['High'].iloc[-1]\n",
    "Low = data1['Low'].iloc[-1]\n",
    "Close = data1['Adj Close'].iloc[-1]\n",
    "Volume = data1['Volume'].iloc[-1]\n",
    "Gold = data2['Adj Close'].iloc[-1]\n",
    "RSI = df3['RSI'].iloc[-1]\n",
    "prediction = regression_model.predict([[eps, High, Low, Close, Volume, Gold, RSI]])\n",
    "print(f'1. {ticker} will close at ${prediction.mean().round(3)} next time window.')\n",
    "print(f'2. The projected daily change is {(((prediction - Close) / Close)*100).mean()}%.')\n",
    "if prediction < Close:\n",
    "    print(f'3. {ticker} will be down from the previous closing of {Close}.')\n",
    "elif prediction == Close:\n",
    "    print(f'3. {ticker} will be the same as the previous closing of {Close}.')\n",
    "else:\n",
    "    print(f'3. {ticker} will be the up from the previous closing of {Close}.')"
   ]
  }
 ],
 "metadata": {
  "kernelspec": {
   "display_name": "Python 3",
   "language": "python",
   "name": "python3"
  },
  "language_info": {
   "codemirror_mode": {
    "name": "ipython",
    "version": 3
   },
   "file_extension": ".py",
   "mimetype": "text/x-python",
   "name": "python",
   "nbconvert_exporter": "python",
   "pygments_lexer": "ipython3",
   "version": "3.7.4"
  }
 },
 "nbformat": 4,
 "nbformat_minor": 2
}
