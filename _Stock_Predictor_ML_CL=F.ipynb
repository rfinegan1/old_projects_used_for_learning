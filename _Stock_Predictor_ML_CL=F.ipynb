{
 "cells": [
  {
   "cell_type": "code",
   "execution_count": 1,
   "metadata": {},
   "outputs": [],
   "source": [
    "import numpy as np\n",
    "import datetime as dt\n",
    "import pandas as pd\n",
    "import pandas_datareader.data as web\n",
    "import matplotlib.pyplot as plt\n",
    "import math\n",
    "import warnings\n",
    "warnings.filterwarnings(\"ignore\")"
   ]
  },
  {
   "cell_type": "code",
   "execution_count": 2,
   "metadata": {},
   "outputs": [
    {
     "data": {
      "text/html": [
       "<div>\n",
       "<style scoped>\n",
       "    .dataframe tbody tr th:only-of-type {\n",
       "        vertical-align: middle;\n",
       "    }\n",
       "\n",
       "    .dataframe tbody tr th {\n",
       "        vertical-align: top;\n",
       "    }\n",
       "\n",
       "    .dataframe thead th {\n",
       "        text-align: right;\n",
       "    }\n",
       "</style>\n",
       "<table border=\"1\" class=\"dataframe\">\n",
       "  <thead>\n",
       "    <tr style=\"text-align: right;\">\n",
       "      <th></th>\n",
       "      <th>CL=F Adj Close</th>\n",
       "    </tr>\n",
       "    <tr>\n",
       "      <th>Date</th>\n",
       "      <th></th>\n",
       "    </tr>\n",
       "  </thead>\n",
       "  <tbody>\n",
       "    <tr>\n",
       "      <td>2015-01-02</td>\n",
       "      <td>52.689999</td>\n",
       "    </tr>\n",
       "    <tr>\n",
       "      <td>2015-01-05</td>\n",
       "      <td>50.040001</td>\n",
       "    </tr>\n",
       "    <tr>\n",
       "      <td>2015-01-06</td>\n",
       "      <td>47.930000</td>\n",
       "    </tr>\n",
       "    <tr>\n",
       "      <td>2015-01-07</td>\n",
       "      <td>48.650002</td>\n",
       "    </tr>\n",
       "    <tr>\n",
       "      <td>2015-01-08</td>\n",
       "      <td>48.790001</td>\n",
       "    </tr>\n",
       "    <tr>\n",
       "      <td>...</td>\n",
       "      <td>...</td>\n",
       "    </tr>\n",
       "    <tr>\n",
       "      <td>2020-05-19</td>\n",
       "      <td>32.360001</td>\n",
       "    </tr>\n",
       "    <tr>\n",
       "      <td>2020-05-20</td>\n",
       "      <td>33.599998</td>\n",
       "    </tr>\n",
       "    <tr>\n",
       "      <td>2020-05-21</td>\n",
       "      <td>33.889999</td>\n",
       "    </tr>\n",
       "    <tr>\n",
       "      <td>2020-05-22</td>\n",
       "      <td>33.560001</td>\n",
       "    </tr>\n",
       "    <tr>\n",
       "      <td>2020-05-24</td>\n",
       "      <td>33.000000</td>\n",
       "    </tr>\n",
       "  </tbody>\n",
       "</table>\n",
       "<p>1364 rows × 1 columns</p>\n",
       "</div>"
      ],
      "text/plain": [
       "            CL=F Adj Close\n",
       "Date                      \n",
       "2015-01-02       52.689999\n",
       "2015-01-05       50.040001\n",
       "2015-01-06       47.930000\n",
       "2015-01-07       48.650002\n",
       "2015-01-08       48.790001\n",
       "...                    ...\n",
       "2020-05-19       32.360001\n",
       "2020-05-20       33.599998\n",
       "2020-05-21       33.889999\n",
       "2020-05-22       33.560001\n",
       "2020-05-24       33.000000\n",
       "\n",
       "[1364 rows x 1 columns]"
      ]
     },
     "execution_count": 2,
     "metadata": {},
     "output_type": "execute_result"
    }
   ],
   "source": [
    "ticker1 = 'CL=F'\n",
    "start = '2015-01-01'\n",
    "end = '2020-05-10'\n",
    "#end = dt.datetime.now()\n",
    "df1 = web.DataReader(ticker1,'yahoo',start,end)\n",
    "df1[[f'{ticker1} Adj Close']] = df1[['Adj Close']]\n",
    "df1 = df1[[f'{ticker1} Adj Close']]\n",
    "df1"
   ]
  },
  {
   "cell_type": "code",
   "execution_count": 3,
   "metadata": {},
   "outputs": [],
   "source": [
    "#OIL COMPANIES ('COP','XOM','BP','RDS-A','CVX','PSX')\n",
    "ticker = 'PSX'\n",
    "start = '2015-01-01'\n",
    "end = '2020-05-10'\n",
    "#end = dt.datetime.now()\n",
    "df = web.DataReader(ticker,'yahoo',start,end)\n",
    "df = df[['Open','High','Low','Close','Adj Close','Volume']]"
   ]
  },
  {
   "cell_type": "code",
   "execution_count": 4,
   "metadata": {},
   "outputs": [],
   "source": [
    "def RSI(ticker):\n",
    "    '''Coolest function... Can see the RSI values fluctuate (usually) from 20/30 to 70/80/90.\n",
    "    Stocks that fluctuate and have good credit (or part of big indices) would be good picks \n",
    "    for trading strategy... below 50 is a buy indicator'''\n",
    "    #end = dt.datetime.now()\n",
    "    end = '2020-05-10'\n",
    "    start = '2015-01-01'\n",
    "    df = web.DataReader(ticker,'yahoo',start,end)\n",
    "    df = df[['Adj Close']]\n",
    "    # create a column called daily return\n",
    "    df['Daily Return'] = df['Adj Close'].pct_change()*100\n",
    "    # making a dataframe only for the percent return of each day\n",
    "    df['Up/Down'] = np.sign(df['Daily Return'])\n",
    "    #drop the nan values\n",
    "    df.dropna(inplace=True)\n",
    "    df['Up']=(df['Up/Down']>0).astype(int)\n",
    "    df['Down']=(df['Up/Down']<0).astype(int)\n",
    "    up = df['Up']\n",
    "    down = df['Down']\n",
    "    gain = pd.Series(up).rolling(window=14).sum()\n",
    "    loss = pd.Series(down).rolling(window=14).sum()\n",
    "    df['Gain'] = gain/14\n",
    "    df['Loss'] = loss/14\n",
    "    df['RS'] = df['Gain']/df['Loss']\n",
    "    df['RSI'] = 100 - (100/(1+df['RS']))\n",
    "    df.dropna(inplace=True)\n",
    "    df = df[['RSI']]\n",
    "    return(df)"
   ]
  },
  {
   "cell_type": "code",
   "execution_count": 5,
   "metadata": {},
   "outputs": [],
   "source": [
    "df3 = RSI(ticker)"
   ]
  },
  {
   "cell_type": "code",
   "execution_count": 6,
   "metadata": {},
   "outputs": [],
   "source": [
    "def EPS(symbol):\n",
    "    from yahoo_earnings_calendar import YahooEarningsCalendar\n",
    "    yec = YahooEarningsCalendar()\n",
    "    ticker = (yec.get_earnings_of(symbol))\n",
    "    data = pd.DataFrame(ticker)\n",
    "    df = data.dropna()\n",
    "    df['Date'] = pd.to_datetime(df['startdatetime']).dt.date\n",
    "    df = df[['Date','ticker','epsestimate','epsactual','epssurprisepct']]\n",
    "    df['Date'] = df['Date'].apply(pd.to_datetime)\n",
    "    df = df.drop_duplicates(subset='Date')\n",
    "    df = df.head(43)\n",
    "    df = df.set_index('Date')\n",
    "    df[['epssurprisepct']]\n",
    "    data1 = web.DataReader(symbol,'yahoo',start,end)\n",
    "    df1 = data1[['Adj Close']]\n",
    "    df1 = df1.sort_index(ascending=False)\n",
    "    df_combined = pd.concat([df,df1],axis=1)\n",
    "    df_combined = df_combined.fillna(method='ffill')\n",
    "    df_combined.dropna(inplace=True)\n",
    "    df_combined=df_combined[['epssurprisepct']]\n",
    "    return(df_combined)"
   ]
  },
  {
   "cell_type": "code",
   "execution_count": 7,
   "metadata": {},
   "outputs": [
    {
     "data": {
      "text/html": [
       "<div>\n",
       "<style scoped>\n",
       "    .dataframe tbody tr th:only-of-type {\n",
       "        vertical-align: middle;\n",
       "    }\n",
       "\n",
       "    .dataframe tbody tr th {\n",
       "        vertical-align: top;\n",
       "    }\n",
       "\n",
       "    .dataframe thead th {\n",
       "        text-align: right;\n",
       "    }\n",
       "</style>\n",
       "<table border=\"1\" class=\"dataframe\">\n",
       "  <thead>\n",
       "    <tr style=\"text-align: right;\">\n",
       "      <th></th>\n",
       "      <th>epssurprisepct</th>\n",
       "    </tr>\n",
       "    <tr>\n",
       "      <th>Date</th>\n",
       "      <th></th>\n",
       "    </tr>\n",
       "  </thead>\n",
       "  <tbody>\n",
       "    <tr>\n",
       "      <td>2015-01-02</td>\n",
       "      <td>15.36</td>\n",
       "    </tr>\n",
       "    <tr>\n",
       "      <td>2015-01-05</td>\n",
       "      <td>15.36</td>\n",
       "    </tr>\n",
       "    <tr>\n",
       "      <td>2015-01-06</td>\n",
       "      <td>15.36</td>\n",
       "    </tr>\n",
       "    <tr>\n",
       "      <td>2015-01-07</td>\n",
       "      <td>15.36</td>\n",
       "    </tr>\n",
       "    <tr>\n",
       "      <td>2015-01-08</td>\n",
       "      <td>15.36</td>\n",
       "    </tr>\n",
       "    <tr>\n",
       "      <td>...</td>\n",
       "      <td>...</td>\n",
       "    </tr>\n",
       "    <tr>\n",
       "      <td>2020-05-18</td>\n",
       "      <td>61.14</td>\n",
       "    </tr>\n",
       "    <tr>\n",
       "      <td>2020-05-19</td>\n",
       "      <td>61.14</td>\n",
       "    </tr>\n",
       "    <tr>\n",
       "      <td>2020-05-20</td>\n",
       "      <td>61.14</td>\n",
       "    </tr>\n",
       "    <tr>\n",
       "      <td>2020-05-21</td>\n",
       "      <td>61.14</td>\n",
       "    </tr>\n",
       "    <tr>\n",
       "      <td>2020-05-22</td>\n",
       "      <td>61.14</td>\n",
       "    </tr>\n",
       "  </tbody>\n",
       "</table>\n",
       "<p>1357 rows × 1 columns</p>\n",
       "</div>"
      ],
      "text/plain": [
       "            epssurprisepct\n",
       "Date                      \n",
       "2015-01-02           15.36\n",
       "2015-01-05           15.36\n",
       "2015-01-06           15.36\n",
       "2015-01-07           15.36\n",
       "2015-01-08           15.36\n",
       "...                    ...\n",
       "2020-05-18           61.14\n",
       "2020-05-19           61.14\n",
       "2020-05-20           61.14\n",
       "2020-05-21           61.14\n",
       "2020-05-22           61.14\n",
       "\n",
       "[1357 rows x 1 columns]"
      ]
     },
     "execution_count": 7,
     "metadata": {},
     "output_type": "execute_result"
    }
   ],
   "source": [
    "df2 = EPS(ticker)\n",
    "df2"
   ]
  },
  {
   "cell_type": "code",
   "execution_count": 8,
   "metadata": {},
   "outputs": [
    {
     "data": {
      "text/html": [
       "<div>\n",
       "<style scoped>\n",
       "    .dataframe tbody tr th:only-of-type {\n",
       "        vertical-align: middle;\n",
       "    }\n",
       "\n",
       "    .dataframe tbody tr th {\n",
       "        vertical-align: top;\n",
       "    }\n",
       "\n",
       "    .dataframe thead th {\n",
       "        text-align: right;\n",
       "    }\n",
       "</style>\n",
       "<table border=\"1\" class=\"dataframe\">\n",
       "  <thead>\n",
       "    <tr style=\"text-align: right;\">\n",
       "      <th></th>\n",
       "      <th>Date</th>\n",
       "      <th>Open</th>\n",
       "      <th>High</th>\n",
       "      <th>Low</th>\n",
       "      <th>Close</th>\n",
       "      <th>Adj Close</th>\n",
       "      <th>Volume</th>\n",
       "      <th>CL=F Adj Close</th>\n",
       "      <th>epssurprisepct</th>\n",
       "      <th>RSI</th>\n",
       "    </tr>\n",
       "  </thead>\n",
       "  <tbody>\n",
       "    <tr>\n",
       "      <td>0</td>\n",
       "      <td>2015-01-23</td>\n",
       "      <td>67.470001</td>\n",
       "      <td>69.190002</td>\n",
       "      <td>66.970001</td>\n",
       "      <td>68.519997</td>\n",
       "      <td>57.359859</td>\n",
       "      <td>4667600.0</td>\n",
       "      <td>45.590000</td>\n",
       "      <td>15.36</td>\n",
       "      <td>50.000000</td>\n",
       "    </tr>\n",
       "    <tr>\n",
       "      <td>1</td>\n",
       "      <td>2015-01-26</td>\n",
       "      <td>68.639999</td>\n",
       "      <td>69.040001</td>\n",
       "      <td>67.610001</td>\n",
       "      <td>68.400002</td>\n",
       "      <td>57.259403</td>\n",
       "      <td>4149700.0</td>\n",
       "      <td>45.150002</td>\n",
       "      <td>15.36</td>\n",
       "      <td>50.000000</td>\n",
       "    </tr>\n",
       "    <tr>\n",
       "      <td>2</td>\n",
       "      <td>2015-01-27</td>\n",
       "      <td>67.699997</td>\n",
       "      <td>69.779999</td>\n",
       "      <td>67.519997</td>\n",
       "      <td>69.599998</td>\n",
       "      <td>58.263947</td>\n",
       "      <td>4407900.0</td>\n",
       "      <td>46.230000</td>\n",
       "      <td>15.36</td>\n",
       "      <td>57.142857</td>\n",
       "    </tr>\n",
       "    <tr>\n",
       "      <td>3</td>\n",
       "      <td>2015-01-28</td>\n",
       "      <td>69.800003</td>\n",
       "      <td>70.059998</td>\n",
       "      <td>68.320000</td>\n",
       "      <td>68.370003</td>\n",
       "      <td>57.234295</td>\n",
       "      <td>6039300.0</td>\n",
       "      <td>44.450001</td>\n",
       "      <td>15.36</td>\n",
       "      <td>50.000000</td>\n",
       "    </tr>\n",
       "    <tr>\n",
       "      <td>4</td>\n",
       "      <td>2015-01-29</td>\n",
       "      <td>69.949997</td>\n",
       "      <td>70.690002</td>\n",
       "      <td>68.650002</td>\n",
       "      <td>70.480003</td>\n",
       "      <td>59.000629</td>\n",
       "      <td>5810100.0</td>\n",
       "      <td>44.529999</td>\n",
       "      <td>18.98</td>\n",
       "      <td>50.000000</td>\n",
       "    </tr>\n",
       "    <tr>\n",
       "      <td>...</td>\n",
       "      <td>...</td>\n",
       "      <td>...</td>\n",
       "      <td>...</td>\n",
       "      <td>...</td>\n",
       "      <td>...</td>\n",
       "      <td>...</td>\n",
       "      <td>...</td>\n",
       "      <td>...</td>\n",
       "      <td>...</td>\n",
       "      <td>...</td>\n",
       "    </tr>\n",
       "    <tr>\n",
       "      <td>1328</td>\n",
       "      <td>2020-05-18</td>\n",
       "      <td>75.000000</td>\n",
       "      <td>77.739998</td>\n",
       "      <td>74.739998</td>\n",
       "      <td>76.279999</td>\n",
       "      <td>76.279999</td>\n",
       "      <td>4532600.0</td>\n",
       "      <td>33.230000</td>\n",
       "      <td>61.14</td>\n",
       "      <td>57.142857</td>\n",
       "    </tr>\n",
       "    <tr>\n",
       "      <td>1329</td>\n",
       "      <td>2020-05-19</td>\n",
       "      <td>76.000000</td>\n",
       "      <td>76.809998</td>\n",
       "      <td>74.110001</td>\n",
       "      <td>75.220001</td>\n",
       "      <td>75.220001</td>\n",
       "      <td>3736700.0</td>\n",
       "      <td>32.360001</td>\n",
       "      <td>61.14</td>\n",
       "      <td>50.000000</td>\n",
       "    </tr>\n",
       "    <tr>\n",
       "      <td>1330</td>\n",
       "      <td>2020-05-20</td>\n",
       "      <td>76.809998</td>\n",
       "      <td>79.110001</td>\n",
       "      <td>76.650002</td>\n",
       "      <td>78.250000</td>\n",
       "      <td>78.250000</td>\n",
       "      <td>3501500.0</td>\n",
       "      <td>33.599998</td>\n",
       "      <td>61.14</td>\n",
       "      <td>57.142857</td>\n",
       "    </tr>\n",
       "    <tr>\n",
       "      <td>1331</td>\n",
       "      <td>2020-05-21</td>\n",
       "      <td>78.650002</td>\n",
       "      <td>79.099998</td>\n",
       "      <td>76.820000</td>\n",
       "      <td>77.089996</td>\n",
       "      <td>77.089996</td>\n",
       "      <td>2299500.0</td>\n",
       "      <td>33.889999</td>\n",
       "      <td>61.14</td>\n",
       "      <td>57.142857</td>\n",
       "    </tr>\n",
       "    <tr>\n",
       "      <td>1332</td>\n",
       "      <td>2020-05-22</td>\n",
       "      <td>76.339996</td>\n",
       "      <td>76.839996</td>\n",
       "      <td>75.150002</td>\n",
       "      <td>76.459999</td>\n",
       "      <td>76.459999</td>\n",
       "      <td>2036100.0</td>\n",
       "      <td>33.560001</td>\n",
       "      <td>61.14</td>\n",
       "      <td>50.000000</td>\n",
       "    </tr>\n",
       "  </tbody>\n",
       "</table>\n",
       "<p>1333 rows × 10 columns</p>\n",
       "</div>"
      ],
      "text/plain": [
       "           Date       Open       High        Low      Close  Adj Close  \\\n",
       "0    2015-01-23  67.470001  69.190002  66.970001  68.519997  57.359859   \n",
       "1    2015-01-26  68.639999  69.040001  67.610001  68.400002  57.259403   \n",
       "2    2015-01-27  67.699997  69.779999  67.519997  69.599998  58.263947   \n",
       "3    2015-01-28  69.800003  70.059998  68.320000  68.370003  57.234295   \n",
       "4    2015-01-29  69.949997  70.690002  68.650002  70.480003  59.000629   \n",
       "...         ...        ...        ...        ...        ...        ...   \n",
       "1328 2020-05-18  75.000000  77.739998  74.739998  76.279999  76.279999   \n",
       "1329 2020-05-19  76.000000  76.809998  74.110001  75.220001  75.220001   \n",
       "1330 2020-05-20  76.809998  79.110001  76.650002  78.250000  78.250000   \n",
       "1331 2020-05-21  78.650002  79.099998  76.820000  77.089996  77.089996   \n",
       "1332 2020-05-22  76.339996  76.839996  75.150002  76.459999  76.459999   \n",
       "\n",
       "         Volume  CL=F Adj Close  epssurprisepct        RSI  \n",
       "0     4667600.0       45.590000           15.36  50.000000  \n",
       "1     4149700.0       45.150002           15.36  50.000000  \n",
       "2     4407900.0       46.230000           15.36  57.142857  \n",
       "3     6039300.0       44.450001           15.36  50.000000  \n",
       "4     5810100.0       44.529999           18.98  50.000000  \n",
       "...         ...             ...             ...        ...  \n",
       "1328  4532600.0       33.230000           61.14  57.142857  \n",
       "1329  3736700.0       32.360001           61.14  50.000000  \n",
       "1330  3501500.0       33.599998           61.14  57.142857  \n",
       "1331  2299500.0       33.889999           61.14  57.142857  \n",
       "1332  2036100.0       33.560001           61.14  50.000000  \n",
       "\n",
       "[1333 rows x 10 columns]"
      ]
     },
     "execution_count": 8,
     "metadata": {},
     "output_type": "execute_result"
    }
   ],
   "source": [
    "df = pd.concat([df,df1,df2,df3],axis=1)\n",
    "df = df[['Open','High','Low','Close','Adj Close','Volume',f'{ticker1} Adj Close','epssurprisepct','RSI']]\n",
    "df = df.dropna()\n",
    "df = df.reset_index()\n",
    "df"
   ]
  },
  {
   "cell_type": "code",
   "execution_count": 9,
   "metadata": {},
   "outputs": [],
   "source": [
    "X = df.drop(['Date','Close','Open'], axis=1, inplace=True)\n",
    "y = df[['Adj Close']]"
   ]
  },
  {
   "cell_type": "code",
   "execution_count": 10,
   "metadata": {},
   "outputs": [
    {
     "data": {
      "text/plain": [
       "matrix([[69.19000244, 66.97000122, 57.35985947, ..., 45.59000015,\n",
       "         15.36      , 50.        ],\n",
       "        [69.04000092, 67.61000061, 57.25940323, ..., 45.15000153,\n",
       "         15.36      , 50.        ],\n",
       "        [69.77999878, 67.51999664, 58.26394653, ..., 46.22999954,\n",
       "         15.36      , 57.14285714],\n",
       "        ...,\n",
       "        [79.11000061, 76.65000153, 78.25      , ..., 33.59999847,\n",
       "         61.14      , 57.14285714],\n",
       "        [79.09999847, 76.81999969, 77.08999634, ..., 33.88999939,\n",
       "         61.14      , 57.14285714],\n",
       "        [76.83999634, 75.15000153, 76.45999908, ..., 33.56000137,\n",
       "         61.14      , 50.        ]])"
      ]
     },
     "execution_count": 10,
     "metadata": {},
     "output_type": "execute_result"
    }
   ],
   "source": [
    "df = np.asmatrix(df)\n",
    "df"
   ]
  },
  {
   "cell_type": "code",
   "execution_count": 11,
   "metadata": {},
   "outputs": [],
   "source": [
    "from sklearn.model_selection import train_test_split\n",
    "# Split X and y into X_\n",
    "X_train, X_test, y_train, y_test = train_test_split(df, y, test_size=0.25,  random_state=0)"
   ]
  },
  {
   "cell_type": "code",
   "execution_count": 12,
   "metadata": {},
   "outputs": [
    {
     "data": {
      "text/plain": [
       "LinearRegression(copy_X=True, fit_intercept=True, n_jobs=None, normalize=False)"
      ]
     },
     "execution_count": 12,
     "metadata": {},
     "output_type": "execute_result"
    }
   ],
   "source": [
    "from sklearn.linear_model import LinearRegression\n",
    "regression_model = LinearRegression()\n",
    "regression_model.fit(X_train, y_train)"
   ]
  },
  {
   "cell_type": "code",
   "execution_count": 13,
   "metadata": {},
   "outputs": [],
   "source": [
    "intercept = regression_model.intercept_[0]"
   ]
  },
  {
   "cell_type": "code",
   "execution_count": 14,
   "metadata": {},
   "outputs": [
    {
     "data": {
      "text/plain": [
       "1.0"
      ]
     },
     "execution_count": 14,
     "metadata": {},
     "output_type": "execute_result"
    }
   ],
   "source": [
    "regression_model.score(X_test, y_test)"
   ]
  },
  {
   "cell_type": "code",
   "execution_count": 15,
   "metadata": {},
   "outputs": [
    {
     "data": {
      "text/plain": [
       "8.699199060209672e-28"
      ]
     },
     "execution_count": 15,
     "metadata": {},
     "output_type": "execute_result"
    }
   ],
   "source": [
    "from sklearn.metrics import mean_squared_error\n",
    "y_predict = regression_model.predict(X_test)\n",
    "regression_model_mse = mean_squared_error(y_predict, y_test)\n",
    "regression_model_mse"
   ]
  },
  {
   "cell_type": "code",
   "execution_count": 16,
   "metadata": {},
   "outputs": [
    {
     "data": {
      "text/plain": [
       "2.9494404656154147e-14"
      ]
     },
     "execution_count": 16,
     "metadata": {},
     "output_type": "execute_result"
    }
   ],
   "source": [
    "math.sqrt(regression_model_mse)"
   ]
  },
  {
   "cell_type": "code",
   "execution_count": 17,
   "metadata": {},
   "outputs": [
    {
     "name": "stdout",
     "output_type": "stream",
     "text": [
      "1. PSX will close at $75.15 next time window.\n",
      "2. The projected daily change is -1.7133109785433671%.\n",
      "3. PSX will be down from the previous closing of 76.45999908447266.\n"
     ]
    }
   ],
   "source": [
    "# input the latest Open, High, Low, Close, Volume\n",
    "# predicts the next day price\n",
    "data2 = web.DataReader(ticker1,'yahoo',start,dt.datetime.now())\n",
    "data1 = web.DataReader(ticker,'yahoo',start,dt.datetime.now())\n",
    "eps = df2['epssurprisepct'].iloc[-1]\n",
    "High = data1['High'].iloc[-1]\n",
    "Low = data1['Low'].iloc[-1]\n",
    "Close = data1['Adj Close'].iloc[-1]\n",
    "Volume = data1['Volume'].iloc[-1]\n",
    "Gold = data2['Adj Close'].iloc[-1]\n",
    "RSI = df3['RSI'].iloc[-1]\n",
    "prediction = regression_model.predict([[eps, High, Low, Close, Volume, Gold, RSI]])\n",
    "print(f'1. {ticker} will close at ${prediction.mean().round(3)} next time window.')\n",
    "print(f'2. The projected daily change is {(((prediction - Close) / Close)*100).mean()}%.')\n",
    "if prediction < Close:\n",
    "    print(f'3. {ticker} will be down from the previous closing of {Close}.')\n",
    "elif prediction == Close:\n",
    "    print(f'3. {ticker} will be the same as the previous closing of {Close}.')\n",
    "else:\n",
    "    print(f'3. {ticker} will be the up from the previous closing of {Close}.')"
   ]
  }
 ],
 "metadata": {
  "kernelspec": {
   "display_name": "Python 3",
   "language": "python",
   "name": "python3"
  },
  "language_info": {
   "codemirror_mode": {
    "name": "ipython",
    "version": 3
   },
   "file_extension": ".py",
   "mimetype": "text/x-python",
   "name": "python",
   "nbconvert_exporter": "python",
   "pygments_lexer": "ipython3",
   "version": "3.7.4"
  }
 },
 "nbformat": 4,
 "nbformat_minor": 2
}
